{
  "nbformat": 4,
  "nbformat_minor": 0,
  "metadata": {
    "colab": {
      "name": "Untitled1.ipynb",
      "provenance": []
    },
    "kernelspec": {
      "name": "python3",
      "display_name": "Python 3"
    },
    "language_info": {
      "name": "python"
    }
  },
  "cells": [
    {
      "cell_type": "markdown",
      "metadata": {
        "id": "YSwwqKE5BnYe"
      },
      "source": [
        "# Pengenalan Phyton"
      ]
    },
    {
      "cell_type": "markdown",
      "metadata": {
        "id": "zeYaoxAaBu3C"
      },
      "source": [
        "Phyton adalah bahasa pemrogaman tingkat tinggi dengan dynamic sematics, bersifat object oriented, dan interpretatif. Bahasa pemrogaman ini fokus dikembangkan pada keterbacaan bahasa pemrogaman.\n",
        "\n",
        "1. **Bahasa Pemrogaman Tingkat Tinggi(High Level Programming)**Artinya sintaks \n",
        "kode lebih mudah ditafsirkan oleh manusia.\n",
        "2.   **Interpretatif** ini artinya bahasa ini memerlukan intrepeter atau penerjemah. Ini memungkinkan bagi kita untuk menggunakan bahasa yang mudah kita pahami.\n",
        "3. **Object Oriented** ini berarti bahwa bahasa pemrogaman ini berorientasi kepada objek. Hal ini membuat phyton lebih mudah untuk dikembangkan.\n",
        "4. **Dynamic Semantics** Phyton secara otomatis akan menyesuaikan tipe dari suatu variable berdasarkan inputnya.\n"
      ]
    },
    {
      "cell_type": "markdown",
      "metadata": {
        "id": "R0yZzwlESMEO"
      },
      "source": [
        "**1. Bahasa Pemrogaman Tingkat Tinggi(High Level Programming)**Artinya sintaks kode lebih mudah ditafsirkan oleh manusia."
      ]
    },
    {
      "cell_type": "markdown",
      "metadata": {
        "id": "n2ccPc08SPbf"
      },
      "source": [
        "**2. Interpretatif** ini artinya bahasa ini memerlukan intrepeter atau penerjemah. Ini memungkinkan bagi kita untuk menggunakan bahasa yang mudah kita pahami."
      ]
    },
    {
      "cell_type": "markdown",
      "metadata": {
        "id": "xvvS7cVHSRMl"
      },
      "source": [
        "**3. Object Oriented** ini berarti bahwa bahasa pemrogaman ini berorientasi kepada objek. Hal ini membuat phyton lebih mudah untuk dikembangkan.\n"
      ]
    },
    {
      "cell_type": "markdown",
      "metadata": {
        "id": "EDMZuOahSWYf"
      },
      "source": [
        "**4. Dynamic Semantics** Phyton secara otomatis akan menyesuaikan tipe dari suatu variable berdasarkan inputnya."
      ]
    },
    {
      "cell_type": "markdown",
      "metadata": {
        "id": "Wy6tPxGJOndG"
      },
      "source": [
        "# Mengapa Phyton?"
      ]
    },
    {
      "cell_type": "markdown",
      "metadata": {
        "id": "GScLu9iROsVG"
      },
      "source": [
        "1. Mudah dipahami\n",
        "2. Gratis & Open Source\n",
        "3. Dinamis\n",
        "4. Memiliki Library Terlengkap untuk Data Sains"
      ]
    },
    {
      "cell_type": "markdown",
      "metadata": {
        "id": "l95r7iBTO1x2"
      },
      "source": [
        "# Struktur Program Pada Phyton"
      ]
    },
    {
      "cell_type": "markdown",
      "metadata": {
        "id": "P5dtOzjGO7hn"
      },
      "source": [
        "Phyton pada umumnya terdiri dari:"
      ]
    },
    {
      "cell_type": "markdown",
      "metadata": {
        "id": "1Dde2_xiR8YO"
      },
      "source": [
        "**1. Statements**"
      ]
    },
    {
      "cell_type": "code",
      "metadata": {
        "colab": {
          "base_uri": "https://localhost:8080/"
        },
        "id": "gho4NA3LPJPc",
        "outputId": "704e79b7-c2ce-47f3-f3f3-f07fbb29e82a"
      },
      "source": [
        "print(\"belajar Phyton menyenangkan\")\n",
        "print(\"halo dunia\")"
      ],
      "execution_count": 1,
      "outputs": [
        {
          "output_type": "stream",
          "name": "stdout",
          "text": [
            "belajar Phyton menyenangkan\n",
            "halo dunia\n"
          ]
        }
      ]
    },
    {
      "cell_type": "markdown",
      "metadata": {
        "id": "qPj2i07kPgDX"
      },
      "source": [
        "**2. Variables**"
      ]
    },
    {
      "cell_type": "code",
      "metadata": {
        "id": "n_XTprhHPnnk"
      },
      "source": [
        "bilangan1 = 5\n",
        "bilangan2 = 10\n",
        "kalimat = \"Pejuang Data 3\""
      ],
      "execution_count": 2,
      "outputs": []
    },
    {
      "cell_type": "markdown",
      "metadata": {
        "id": "WsxGo2m7Puy9"
      },
      "source": [
        "**3. Literals**: Simbol-simbol yang dapat kita gunakan untuk mengisi suatu variabel."
      ]
    },
    {
      "cell_type": "markdown",
      "metadata": {
        "id": "lEMlvkxaP65v"
      },
      "source": [
        "**4. Operators**: Simbol-simbol yang dapat digunakan untuk mengubah nilai dari satu variabel dengan melibatkan satu atau lebih variavel dan literal."
      ]
    },
    {
      "cell_type": "code",
      "metadata": {
        "colab": {
          "base_uri": "https://localhost:8080/"
        },
        "id": "pDhevk6mQKWi",
        "outputId": "936e2ace-64c6-4fda-d995-1d94252910df"
      },
      "source": [
        "bilangan1 + bilangan2"
      ],
      "execution_count": 3,
      "outputs": [
        {
          "output_type": "execute_result",
          "data": {
            "text/plain": [
              "15"
            ]
          },
          "metadata": {},
          "execution_count": 3
        }
      ]
    },
    {
      "cell_type": "markdown",
      "metadata": {
        "id": "KQqQBMzdQOQ-"
      },
      "source": [
        "**5. Reserved Words**: Kumpulan kata-kata yang memiliki makna khusus dalam bahasa pemrogaman Phyton. Kata `False`, `return`, dan `for` merupakan contoh dari reserved words."
      ]
    },
    {
      "cell_type": "markdown",
      "metadata": {
        "id": "0_rPEr2PRFX3"
      },
      "source": [
        "**6. Whitespaces**: Pada bahasa Phyton, spasi dan tab memiliki makna khusus untuk menandai serangkaian blok dalam kode Phyton."
      ]
    },
    {
      "cell_type": "markdown",
      "metadata": {
        "id": "DGL9JP6GRSm4"
      },
      "source": [
        "**7. Comments**: Comments merupakan sekumpulan teks yan gdituliskan di dalam sebuah program yang tidak akan mempengaruhi hasil dari sebuah program."
      ]
    },
    {
      "cell_type": "markdown",
      "metadata": {
        "id": "sURTcoPpRe8R"
      },
      "source": [
        "Terdapat dua jenis comments di dalam Phyton, yaitu:"
      ]
    },
    {
      "cell_type": "markdown",
      "metadata": {
        "id": "_UgIT3UpTNyO"
      },
      "source": [
        "**a. single line comment** (comments dalam satu baris) seperti pada contoh berikut:"
      ]
    },
    {
      "cell_type": "code",
      "metadata": {
        "colab": {
          "base_uri": "https://localhost:8080/"
        },
        "id": "NZaZ7uZ_TU61",
        "outputId": "b3fb9622-7106-4905-eeba-9a43742bc7e2"
      },
      "source": [
        "# Ini adalah Comment\n",
        "print(\"belajar Phyton\")"
      ],
      "execution_count": 4,
      "outputs": [
        {
          "output_type": "stream",
          "name": "stdout",
          "text": [
            "belajar Phyton\n"
          ]
        }
      ]
    },
    {
      "cell_type": "markdown",
      "metadata": {
        "id": "3ngaCrXsTeOr"
      },
      "source": [
        "**b. multi line comment** (comments dalam beberapa baris) yang dapat dituliskan seperti pada contoh berikut:"
      ]
    },
    {
      "cell_type": "code",
      "metadata": {
        "colab": {
          "base_uri": "https://localhost:8080/"
        },
        "id": "ZzYX-kMdTorw",
        "outputId": "a7c3d7cb-04b6-42ea-a1ed-790cc4ed758f"
      },
      "source": [
        "'''\n",
        "Ini adalah komentar panjang\n",
        "bisa digunakan untuk memberikan penjelasan\n",
        "panjang pada Sell kode Phyton,\n",
        "Misal dokumentasi program, spesifikasi\n",
        "input output atau lainnya\n",
        "'''\n",
        "\n",
        "print('Belajar Phyton menyenangkan')"
      ],
      "execution_count": 5,
      "outputs": [
        {
          "output_type": "stream",
          "name": "stdout",
          "text": [
            "Belajar Phyton menyenangkan\n"
          ]
        }
      ]
    }
  ]
}