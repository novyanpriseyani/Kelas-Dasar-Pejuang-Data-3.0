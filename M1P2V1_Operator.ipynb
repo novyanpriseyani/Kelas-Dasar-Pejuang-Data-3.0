{
  "nbformat": 4,
  "nbformat_minor": 0,
  "metadata": {
    "colab": {
      "name": "Untitled2.ipynb",
      "provenance": [],
      "collapsed_sections": []
    },
    "kernelspec": {
      "name": "python3",
      "display_name": "Python 3"
    },
    "language_info": {
      "name": "python"
    }
  },
  "cells": [
    {
      "cell_type": "markdown",
      "metadata": {
        "id": "zTaGqxq9voCi"
      },
      "source": [
        "# Operator"
      ]
    },
    {
      "cell_type": "markdown",
      "metadata": {
        "id": "J6FI9L8ovqlD"
      },
      "source": [
        "Operator = simbol-simbol yang dapat digunakan untuk mengubah nilai dari satu variabel dengan melibatkan satu atau lebih variabel dan literal.\n",
        "tipe-tipe operator\n",
        "1. Operator Aritmatika\n",
        "2. Operator Assignment\n",
        "3. Operator Pembanding\n",
        "4. Operator Logika\n",
        "5. Operatir Membership\n"
      ]
    },
    {
      "cell_type": "markdown",
      "metadata": {
        "id": "dxODSndTwG1d"
      },
      "source": [
        "# Operator Aritmatika"
      ]
    },
    {
      "cell_type": "markdown",
      "metadata": {
        "id": "p5JJb270wLuM"
      },
      "source": [
        "Operator aritmatika dinganakan untuk melakukan operasi matematika yang umum\n",
        "maca-macam operator aritmatika:"
      ]
    },
    {
      "cell_type": "code",
      "metadata": {
        "id": "bGxC_OYZws42"
      },
      "source": [
        "+ : Penjumlahan\n",
        "- : Pengurangan\n",
        "* : Perkalian\n",
        "/ : Pembagian\n",
        "% : Modulus\n",
        "** : Perpangkatan\n",
        "// : Pembagian dengan hasil pembulatan flooring"
      ],
      "execution_count": null,
      "outputs": []
    },
    {
      "cell_type": "code",
      "metadata": {
        "id": "OTahfQO-w-sB"
      },
      "source": [
        "# Contoh penggunaan operator aritmatika\n",
        "\n",
        "#Penjumlahan\n",
        "print('Penjumlahan')\n",
        "print(2+2)\n",
        "#Pengurangan\n",
        "print('_'*20)\n",
        "print('Pengurangan')\n",
        "print(2-3)\n",
        "#Perkalian\n",
        "print('_'*20)\n",
        "print('Perkalian')\n",
        "print(2*3)\n",
        "#Pembagian\n",
        "print('_'*20)\n",
        "print('Pembagian')\n",
        "print(2/3)\n",
        "#Modulus\n",
        "print('_'*20)\n",
        "print('Modulus')\n",
        "print(2%3)\n",
        "#Perpangkatan\n",
        "print('_'*20)\n",
        "print('Perpangkatan')\n",
        "print(2*3)\n",
        "#Pembagian Pembulatan Floring\n",
        "print('_'*20)\n",
        "print('Pembagian Pembulatan Floring')\n",
        "print(3//2)\n"
      ],
      "execution_count": null,
      "outputs": []
    },
    {
      "cell_type": "markdown",
      "metadata": {
        "id": "IalS5OYJx_iX"
      },
      "source": [
        "**Latihan Operator 1**"
      ]
    },
    {
      "cell_type": "code",
      "metadata": {
        "id": "AngpHgvsyEyT"
      },
      "source": [
        "# penggunaan operator aritmatika\n",
        "\n",
        "#Penjumlahan\n",
        "print('Penjumlahan')\n",
        "print(5+5)\n",
        "#Pengurangan\n",
        "print('_'*10)\n",
        "print('Pengurangan')\n",
        "print(6-3)\n",
        "#Perkalian\n",
        "print('_'*10)\n",
        "print('Perkalian')\n",
        "print(6*3)\n",
        "#Pembagian\n",
        "print('_'*10)\n",
        "print('Pembagian')\n",
        "print(6/3)\n",
        "#Modulus\n",
        "print('_'*10)\n",
        "print('Modulus')\n",
        "print(6%3)\n",
        "#Perpangkatan\n",
        "print('_'*10)\n",
        "print('Perpangkatan')\n",
        "print(6*3)\n",
        "#Pembagian Pembulatan Floring\n",
        "print('_'*10)\n",
        "print('Pembagian Pembulatan Floring')\n",
        "print(6//3)"
      ],
      "execution_count": null,
      "outputs": []
    },
    {
      "cell_type": "markdown",
      "metadata": {
        "id": "BKfexb4OyYPl"
      },
      "source": [
        "# Operator Assignment"
      ]
    },
    {
      "cell_type": "markdown",
      "metadata": {
        "id": "Dm5LbwUwycOz"
      },
      "source": [
        "Operator `assignment` digunakan untuk menyimpan nilai menjadi suatu variabel"
      ]
    },
    {
      "cell_type": "code",
      "metadata": {
        "id": "xJ20W8InykMQ"
      },
      "source": [
        "= : contonya x = 5    -> x = 5\n",
        "+= : contonya x + 5    -> x += 5\n",
        "-+ : contonya x - 5    -> x -= 5\n",
        "*= : contonya x * 5    -> x *= 5\n",
        "/= : contonya x / 5    -> x /= 5\n",
        "%= : contonya x % 5    -> x %= 5\n",
        "//= : contonya x // 5    -> x //= 5\n",
        "**= : contonya x ** 5    -> x **= 5"
      ],
      "execution_count": null,
      "outputs": []
    },
    {
      "cell_type": "code",
      "metadata": {
        "id": "AmN209IbzECt"
      },
      "source": [
        "# Contoh penggunaan operator Assignment\n",
        "\n",
        "# Penjumlahan\n",
        "print('Penjumlahan')\n",
        "x=5\n",
        "x=x+5\n",
        "print(x)\n",
        "x=5\n",
        "x+=3\n",
        "print(x)\n",
        "print('_'*20)\n",
        "\n",
        "# Pengurangan\n",
        "print('Pengurangan')\n",
        "x=5\n",
        "x=x-5\n",
        "print(x)\n",
        "x=5\n",
        "x-=3\n",
        "print(x)\n",
        "print('_'*20)\n",
        "\n",
        "# Perkalian\n",
        "print('Perkalian')\n",
        "x=5\n",
        "x=x*5\n",
        "print(x)\n",
        "x=5\n",
        "x*=3\n",
        "print(x)\n",
        "print('_'*20)\n",
        "\n",
        "# Pembagian\n",
        "print('Pembagian')\n",
        "x=5\n",
        "x=x/5\n",
        "print(x)\n",
        "x=5\n",
        "x/=3\n",
        "print(x)\n",
        "print('_'*20)\n",
        "\n",
        "# Modulus\n",
        "print('Modulus')\n",
        "x=5\n",
        "x=x%5\n",
        "print(x)\n",
        "x=5\n",
        "x%=3\n",
        "print(x)\n",
        "print('_'*20)\n",
        "\n",
        "# Pembagian Floring\n",
        "print('Pembagian Floring')\n",
        "x=5\n",
        "x=x//5\n",
        "print(x)\n",
        "x=5\n",
        "x//=3\n",
        "print(x)\n",
        "print('_'*20)\n",
        "\n",
        "# Perpangkatan\n",
        "print('Perpangkatan')\n",
        "x=5\n",
        "x=x**5\n",
        "print(x)\n",
        "x=5\n",
        "x**=3\n",
        "print(x)\n",
        "print('_'*20)"
      ],
      "execution_count": null,
      "outputs": []
    },
    {
      "cell_type": "markdown",
      "metadata": {
        "id": "iwXjOarT0FwJ"
      },
      "source": [
        "**Latihan Operator 2**"
      ]
    },
    {
      "cell_type": "code",
      "metadata": {
        "id": "7yFN2qP40Jkd"
      },
      "source": [
        "# penggunaan operator assignment\n",
        "\n",
        "# Penjumlahan\n",
        "print('Penjumlahan')\n",
        "x=6\n",
        "x=x+6\n",
        "print(x)\n",
        "x=6\n",
        "x+=2\n",
        "print(x)\n",
        "print('_'*10)\n",
        "\n",
        "# Pengurangan\n",
        "print('Pengurangan')\n",
        "x=6\n",
        "x=x-6\n",
        "print(x)\n",
        "x=6\n",
        "x-=2\n",
        "print(x)\n",
        "print('_'*10)\n",
        "\n",
        "# Perkalian\n",
        "print('Perkalian')\n",
        "x=6\n",
        "x=x*6\n",
        "print(x)\n",
        "x=6\n",
        "x*=2\n",
        "print(x)\n",
        "print('_'*10)\n",
        "\n",
        "# Pembagian\n",
        "print('Pembagian')\n",
        "x=6\n",
        "x=x/6\n",
        "print(x)\n",
        "x=6\n",
        "x/=2\n",
        "print(x)\n",
        "print('_'*10)\n",
        "\n",
        "# Modulus\n",
        "print('Modulus')\n",
        "x=6\n",
        "x=x%6\n",
        "print(x)\n",
        "x=6\n",
        "x%=2\n",
        "print(x)\n",
        "print('_'*10)\n",
        "\n",
        "# Pembagian Floring\n",
        "print('Pembagian Floring')\n",
        "x=6\n",
        "x=x//6\n",
        "print(x)\n",
        "x=6\n",
        "x//=2\n",
        "print(x)\n",
        "print('_'*10)\n",
        "\n",
        "# Perpangkatan\n",
        "print('Perpangkatan')\n",
        "x=6\n",
        "x=x**6\n",
        "print(x)\n",
        "x=6\n",
        "x**=2\n",
        "print(x)\n",
        "print('_'*10)"
      ],
      "execution_count": null,
      "outputs": []
    },
    {
      "cell_type": "markdown",
      "metadata": {
        "id": "uwaJ8vPc0mZb"
      },
      "source": [
        "# Operator Pembanding"
      ]
    },
    {
      "cell_type": "markdown",
      "metadata": {
        "id": "uFrZyq_r0qME"
      },
      "source": [
        "Operator pembanding digunakan untuk membandingkan 2 nilai atau variabel\n",
        "macam-macam operator pembanding"
      ]
    },
    {
      "cell_type": "code",
      "metadata": {
        "id": "aQB2jqKj0xeo"
      },
      "source": [
        "== -> samadengan\n",
        "!= -> tidak samadengan\n",
        "> -> lebih dari\n",
        "< -> kurang dari\n",
        ">= -> lebih dari dan samadengan\n",
        "<= -> kurang dari dan samadengan"
      ],
      "execution_count": null,
      "outputs": []
    },
    {
      "cell_type": "code",
      "metadata": {
        "id": "-YhAifGS1INb"
      },
      "source": [
        "# Contoh penggunaan operator pembanding\n",
        "\n",
        "print(2==2)\n",
        "print(2!=2)\n",
        "print(2>2)\n",
        "print(2<2)\n",
        "print(2>=2)\n",
        "print(2<=2)"
      ],
      "execution_count": null,
      "outputs": []
    },
    {
      "cell_type": "markdown",
      "metadata": {
        "id": "s1dsoKTE1ac-"
      },
      "source": [
        "**Latihan Operator 3**"
      ]
    },
    {
      "cell_type": "code",
      "metadata": {
        "id": "RsGJ74nR1fpc"
      },
      "source": [
        "# penggunaan operator pembanding\n",
        "print(5==5)\n",
        "print(5!=5)\n",
        "print(5>5)\n",
        "print(5<5)\n",
        "print(5>=5)\n",
        "print(5<=5)"
      ],
      "execution_count": null,
      "outputs": []
    },
    {
      "cell_type": "markdown",
      "metadata": {
        "id": "mkaVhnv21vsM"
      },
      "source": [
        "# Operator Logika"
      ]
    },
    {
      "cell_type": "markdown",
      "metadata": {
        "id": "5Up1qCtu1zq8"
      },
      "source": [
        "Operator logika digunakan untuk mengkombinasikan statment-statment kondisional\n",
        "macam-macam operator logika:"
      ]
    },
    {
      "cell_type": "code",
      "metadata": {
        "id": "dSOqMgLf167G"
      },
      "source": [
        "and -> kondisi mejadi benar apabila semua statementnya benar\n",
        "or -> kondisi menjadi benar apabila salah satu statementnya ada yang benar\n",
        "not -> membalik hasil dari benae ke salah dan salah ke benar"
      ],
      "execution_count": null,
      "outputs": []
    },
    {
      "cell_type": "code",
      "metadata": {
        "id": "12E0gz5A2J9B"
      },
      "source": [
        "# Contoh penggunaan operator logika\n",
        "\n",
        "print(True and False)\n",
        "print(False or not)\n",
        "print(not False and True)"
      ],
      "execution_count": null,
      "outputs": []
    },
    {
      "cell_type": "markdown",
      "metadata": {
        "id": "S0lALaAh2kCh"
      },
      "source": [
        "**Latihan Operator 4**"
      ]
    },
    {
      "cell_type": "code",
      "metadata": {
        "id": "biR8pcDi2m7y"
      },
      "source": [
        "# penggunaan operator logika\n",
        "print(True and False)\n",
        "print(False or not)\n",
        "print(not False and True)"
      ],
      "execution_count": null,
      "outputs": []
    },
    {
      "cell_type": "markdown",
      "metadata": {
        "id": "NxTm2zcy2s05"
      },
      "source": [
        "# Operator Keanggotaan"
      ]
    },
    {
      "cell_type": "markdown",
      "metadata": {
        "id": "5eYGs1ST2x_6"
      },
      "source": [
        "Operator keanggotaan digunakan untuk menguji apakah urutan disajikan dalam suatu objek\n",
        "macam-macam operator keanggotaan:"
      ]
    },
    {
      "cell_type": "code",
      "metadata": {
        "id": "-B-szwFY26gM"
      },
      "source": [
        "in     -> return True ketika nilai tertentu dalam sebuah urutan ada\n",
        "not in -> return True ketika nilai tertentu dalam sebuah urutan tidak ada"
      ],
      "execution_count": null,
      "outputs": []
    },
    {
      "cell_type": "code",
      "metadata": {
        "id": "912e_sB03GY2"
      },
      "source": [
        "# Contoh penggunaan operator keanggotaan\n",
        "a=(1,2,3,4,5,6)\n",
        "b=2\n",
        "\n",
        "print(b in a)\n",
        "\n",
        "print('_'*20)\n",
        "a=(1,2,3,4,5,6)\n",
        "b=7\n",
        "print(b not in a)"
      ],
      "execution_count": null,
      "outputs": []
    },
    {
      "cell_type": "markdown",
      "metadata": {
        "id": "CbqkPx543Yut"
      },
      "source": [
        "**Latihan Operator 5**"
      ]
    },
    {
      "cell_type": "code",
      "metadata": {
        "id": "zuwMgY2H3cWP"
      },
      "source": [
        "# penggunaan operator keanggotaan\n",
        "a=(7,8,9,10)\n",
        "b=8\n",
        "\n",
        "print(b in a)\n",
        "\n",
        "print('_'*10)\n",
        "a=(7,8,9,10)\n",
        "b=3\n",
        "print(b not in a)"
      ],
      "execution_count": null,
      "outputs": []
    }
  ]
}