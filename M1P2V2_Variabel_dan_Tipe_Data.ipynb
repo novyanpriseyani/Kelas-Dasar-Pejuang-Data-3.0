{
  "nbformat": 4,
  "nbformat_minor": 0,
  "metadata": {
    "colab": {
      "name": "Untitled3.ipynb",
      "provenance": []
    },
    "kernelspec": {
      "name": "python3",
      "display_name": "Python 3"
    },
    "language_info": {
      "name": "python"
    }
  },
  "cells": [
    {
      "cell_type": "markdown",
      "metadata": {
        "id": "IZR2JNws36U7"
      },
      "source": [
        "# Variabel & Tipe Data"
      ]
    },
    {
      "cell_type": "markdown",
      "metadata": {
        "id": "1dbZpOJ63_Oq"
      },
      "source": [
        "## Variabel"
      ]
    },
    {
      "cell_type": "markdown",
      "metadata": {
        "id": "Jv6EW7Uc4DFU"
      },
      "source": [
        "**Variables**: Lokasi penyimpanan yang dapat digunakan untuk menampung sebuah data atau informasi.\n",
        "Syarat-syarat penamaan variabel\n",
        "1. Karakter-karakter yang digunakan untuk penamaan variable adalah alphabet, angka, dan underscore.\n",
        "2. Karakter pertama variabel harus berupa huruf atau garis bawah/underscore, dan tidak bisa berupa angka.\n",
        "3. Nama sebuah variable tidak bisa menggunakan keyword atau reserved words dari bahasa phyton seperti for, if, dan lainnya\n",
        "4. Karakter pada nama variable bersifat sensitif (case-sensitif)."
      ]
    },
    {
      "cell_type": "code",
      "metadata": {
        "id": "qhMdgaU043D-"
      },
      "source": [
        "# membuat variabel\n",
        "kalimat ='ini adalah variabel'\n",
        "bilangan1 = 4\n",
        "bilangan2 = 2.5\n",
        "bilangan3 = True\n",
        "bilangan4 = 1j + 4"
      ],
      "execution_count": 11,
      "outputs": []
    },
    {
      "cell_type": "code",
      "metadata": {
        "colab": {
          "base_uri": "https://localhost:8080/"
        },
        "id": "LfscIGrt62X-",
        "outputId": "8368b9c5-14d6-410a-eb1d-7f031c0bb0de"
      },
      "source": [
        "# menampilkan variabel\n",
        "print(kalimat)\n",
        "print(bilangan1)\n",
        "print(bilangan2)"
      ],
      "execution_count": 12,
      "outputs": [
        {
          "output_type": "stream",
          "name": "stdout",
          "text": [
            "ini adalah variabel\n",
            "4\n",
            "2.5\n"
          ]
        }
      ]
    },
    {
      "cell_type": "markdown",
      "metadata": {
        "id": "DY9rGoHI7evg"
      },
      "source": [
        "**Latihan 1**"
      ]
    },
    {
      "cell_type": "code",
      "metadata": {
        "id": "n6a2H5Ih7haX"
      },
      "source": [
        "# membuat variable\n",
        "kalimat ='ini adalah variabel novyan'\n",
        "bilangan5 = 28\n",
        "bilangan6 = 11\n",
        "bilangan7 = True\n",
        "bilangan8 = 2j + 2"
      ],
      "execution_count": 30,
      "outputs": []
    },
    {
      "cell_type": "code",
      "metadata": {
        "colab": {
          "base_uri": "https://localhost:8080/"
        },
        "id": "aL2-LUIi7yDF",
        "outputId": "81532295-a79f-4a65-ac0b-aa608ce0116f"
      },
      "source": [
        "# menampilkan variable\n",
        "print(kalimat)\n",
        "print(bilangan5)\n",
        "print(bilangan6)"
      ],
      "execution_count": 22,
      "outputs": [
        {
          "output_type": "stream",
          "name": "stdout",
          "text": [
            "ini adalah variabel novyan\n",
            "28\n",
            "11\n"
          ]
        }
      ]
    },
    {
      "cell_type": "markdown",
      "metadata": {
        "id": "3MOgQpGW73pz"
      },
      "source": [
        "## Tipe Data"
      ]
    },
    {
      "cell_type": "markdown",
      "metadata": {
        "id": "t1-u1_GA76IE"
      },
      "source": [
        "5 tipe data yaitu\n",
        "1. Integer atau bilangan bulat\n",
        "2. Float atau bilangan desimal\n",
        "3. String atau kalimat\n",
        "4. Boolean  yang terdiri dari True dan False\n",
        "5. Complex yang merupakan bilangan kompleks"
      ]
    },
    {
      "cell_type": "code",
      "metadata": {
        "colab": {
          "base_uri": "https://localhost:8080/"
        },
        "id": "4VXrp_dn8GJl",
        "outputId": "676b0b2f-6161-46fa-daa4-5c1596d997a7"
      },
      "source": [
        "# menampilkan tipe data\n",
        "print(type(kalimat))\n",
        "print(type(bilangan1))\n",
        "print(type(bilangan2))\n",
        "print(type(bilangan3))\n",
        "print(type(bilangan4))"
      ],
      "execution_count": 19,
      "outputs": [
        {
          "output_type": "stream",
          "name": "stdout",
          "text": [
            "<class 'str'>\n",
            "<class 'int'>\n",
            "<class 'int'>\n",
            "<class 'bool'>\n",
            "<class 'complex'>\n"
          ]
        }
      ]
    },
    {
      "cell_type": "markdown",
      "metadata": {
        "id": "tG5ycFD78bc2"
      },
      "source": [
        "**Latihan 2**"
      ]
    },
    {
      "cell_type": "code",
      "metadata": {
        "colab": {
          "base_uri": "https://localhost:8080/"
        },
        "id": "fWC1jE6G8d1j",
        "outputId": "fa586bfe-71d1-4264-c8e5-d2a152f9e1a9"
      },
      "source": [
        "# menampilkan tipe data\n",
        "print(type(kalimat))\n",
        "print(type(bilangan5))\n",
        "print(type(bilangan6))\n",
        "print(type(bilangan7))\n",
        "print(type(bilangan8))"
      ],
      "execution_count": 23,
      "outputs": [
        {
          "output_type": "stream",
          "name": "stdout",
          "text": [
            "<class 'str'>\n",
            "<class 'int'>\n",
            "<class 'int'>\n",
            "<class 'bool'>\n",
            "<class 'complex'>\n"
          ]
        }
      ]
    },
    {
      "cell_type": "markdown",
      "metadata": {
        "id": "2_ySA_6e8852"
      },
      "source": [
        "## Konversi Tipe Data"
      ]
    },
    {
      "cell_type": "markdown",
      "metadata": {
        "id": "0tbHvjoD9Aoy"
      },
      "source": [
        "Syntax Konversi tipe data\n",
        "1. Integer = int()\n",
        "2. Float = float()\n",
        "3. String = str()\n",
        "4. Boolean = boll()\n",
        "5. Complex = Complex()"
      ]
    },
    {
      "cell_type": "code",
      "metadata": {
        "colab": {
          "base_uri": "https://localhost:8080/"
        },
        "id": "z2vG5Oxv9WAW",
        "outputId": "a04ef5d9-bdae-47f9-e4fa-3e6f215d3724"
      },
      "source": [
        "# konversi tipe data integer\n",
        "print(int(bilangan2))\n",
        "print(int(bilangan3))"
      ],
      "execution_count": 24,
      "outputs": [
        {
          "output_type": "stream",
          "name": "stdout",
          "text": [
            "11\n",
            "1\n"
          ]
        }
      ]
    },
    {
      "cell_type": "code",
      "metadata": {
        "colab": {
          "base_uri": "https://localhost:8080/"
        },
        "id": "gkYTlqnL9fT5",
        "outputId": "8ffc28c5-cc63-49d3-ea3a-e4285c35cb6f"
      },
      "source": [
        "# konversi tipe data float\n",
        "print(float(bilangan1))\n",
        "print(float(bilangan3))"
      ],
      "execution_count": 26,
      "outputs": [
        {
          "output_type": "stream",
          "name": "stdout",
          "text": [
            "28.0\n",
            "1.0\n"
          ]
        }
      ]
    },
    {
      "cell_type": "code",
      "metadata": {
        "colab": {
          "base_uri": "https://localhost:8080/"
        },
        "id": "GHH6XwYZ91KT",
        "outputId": "53607f52-167b-48e2-87ad-104d6bfeeced"
      },
      "source": [
        "# konversi tipe data string\n",
        "print(str(bilangan1))\n",
        "print(str(bilangan2))\n",
        "print(str(bilangan3))"
      ],
      "execution_count": 27,
      "outputs": [
        {
          "output_type": "stream",
          "name": "stdout",
          "text": [
            "28\n",
            "11\n",
            "True\n"
          ]
        }
      ]
    },
    {
      "cell_type": "code",
      "metadata": {
        "colab": {
          "base_uri": "https://localhost:8080/"
        },
        "id": "fb_Q8TZs-BHe",
        "outputId": "5e183d02-84e9-44e9-a531-63dba32114c6"
      },
      "source": [
        "# konversi tipe data bool\n",
        "print(bool(bilangan1))\n",
        "print(bool(bilangan2))"
      ],
      "execution_count": 28,
      "outputs": [
        {
          "output_type": "stream",
          "name": "stdout",
          "text": [
            "True\n",
            "True\n"
          ]
        }
      ]
    },
    {
      "cell_type": "code",
      "metadata": {
        "colab": {
          "base_uri": "https://localhost:8080/"
        },
        "id": "6t9zy8_J-JA9",
        "outputId": "d98d5b21-51fc-4fdb-8a55-d2258f51e4ec"
      },
      "source": [
        "# konversi tipe data complex\n",
        "print(complex(bilangan1))\n",
        "print(complex(bilangan2))\n",
        "print(complex(bilangan3))"
      ],
      "execution_count": 29,
      "outputs": [
        {
          "output_type": "stream",
          "name": "stdout",
          "text": [
            "(28+0j)\n",
            "(11+0j)\n",
            "(1+0j)\n"
          ]
        }
      ]
    },
    {
      "cell_type": "markdown",
      "metadata": {
        "id": "wrByQHsm-Ub5"
      },
      "source": [
        "**Latihan 3**"
      ]
    },
    {
      "cell_type": "code",
      "metadata": {
        "colab": {
          "base_uri": "https://localhost:8080/"
        },
        "id": "o0da3v9M-XXv",
        "outputId": "055043ad-6d1d-4ef5-a501-a4154990f56f"
      },
      "source": [
        "# konversi tipe data integer\n",
        "print(int(bilangan6))\n",
        "print(int(bilangan7))"
      ],
      "execution_count": 31,
      "outputs": [
        {
          "output_type": "stream",
          "name": "stdout",
          "text": [
            "11\n",
            "1\n"
          ]
        }
      ]
    },
    {
      "cell_type": "code",
      "metadata": {
        "colab": {
          "base_uri": "https://localhost:8080/"
        },
        "id": "QN_XeBe1-pP6",
        "outputId": "0b8382a9-dd7c-4ae3-acfb-e6563b9f7210"
      },
      "source": [
        "# konversi tipe data float\n",
        "print(float(bilangan5))\n",
        "print(float(bilangan7))"
      ],
      "execution_count": 32,
      "outputs": [
        {
          "output_type": "stream",
          "name": "stdout",
          "text": [
            "28.0\n",
            "1.0\n"
          ]
        }
      ]
    },
    {
      "cell_type": "code",
      "metadata": {
        "colab": {
          "base_uri": "https://localhost:8080/"
        },
        "id": "A87-GBDU-uFt",
        "outputId": "26c8d966-9dd9-4c60-fbfa-4fe9c4524ed7"
      },
      "source": [
        "# konversi tipe data string\n",
        "print(str(bilangan5))\n",
        "print(str(bilangan6))\n",
        "print(str(bilangan7))"
      ],
      "execution_count": 33,
      "outputs": [
        {
          "output_type": "stream",
          "name": "stdout",
          "text": [
            "28\n",
            "11\n",
            "True\n"
          ]
        }
      ]
    },
    {
      "cell_type": "code",
      "metadata": {
        "colab": {
          "base_uri": "https://localhost:8080/"
        },
        "id": "UE5WrWLp-yp7",
        "outputId": "5e748f9b-edc8-43ce-bcaa-32f90d65b81d"
      },
      "source": [
        "# konversi tipe data bool\n",
        "print(bool(bilangan5))\n",
        "print(bool(bilangan6))"
      ],
      "execution_count": 34,
      "outputs": [
        {
          "output_type": "stream",
          "name": "stdout",
          "text": [
            "True\n",
            "True\n"
          ]
        }
      ]
    },
    {
      "cell_type": "code",
      "metadata": {
        "colab": {
          "base_uri": "https://localhost:8080/"
        },
        "id": "fhf6NWaa-3Hx",
        "outputId": "2cacc289-94f7-476f-c62f-6fad4248b03c"
      },
      "source": [
        "# konversi tipe data complex\n",
        "print(complex(bilangan5))\n",
        "print(complex(bilangan6))\n",
        "print(complex(bilangan7))"
      ],
      "execution_count": 35,
      "outputs": [
        {
          "output_type": "stream",
          "name": "stdout",
          "text": [
            "(28+0j)\n",
            "(11+0j)\n",
            "(1+0j)\n"
          ]
        }
      ]
    }
  ]
}