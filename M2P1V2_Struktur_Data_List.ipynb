{
  "nbformat": 4,
  "nbformat_minor": 0,
  "metadata": {
    "colab": {
      "name": "M2P1V2 Struktur Data List.ipynb",
      "provenance": []
    },
    "kernelspec": {
      "name": "python3",
      "display_name": "Python 3"
    },
    "language_info": {
      "name": "python"
    }
  },
  "cells": [
    {
      "cell_type": "markdown",
      "metadata": {
        "id": "ZdytO_sd-xql"
      },
      "source": [
        "# List"
      ]
    },
    {
      "cell_type": "markdown",
      "metadata": {
        "id": "ibEPOwNT-0Qb"
      },
      "source": [
        "List adalah jenis kumpulan data terurut (ordered sequence), dan merupakan salah satu variabel yang sering digunakan pada Phython. Serupa, namun tak sama dengan array pada bahasa pemrogaman lainnya. Bedanya, elemen List pada Phython tidak harus memiliki tipe data yang sama. Mendeklarasikan List cukup mudah dengan kurung siku dan elemen yang dipisahkan dengan koma."
      ]
    },
    {
      "cell_type": "markdown",
      "metadata": {
        "id": "uHWRJa4r_Q-C"
      },
      "source": [
        "Setiap data di dalamnya dapat diakses dengan indeks yang dimulai dari 0."
      ]
    },
    {
      "cell_type": "code",
      "metadata": {
        "colab": {
          "base_uri": "https://localhost:8080/"
        },
        "id": "DKmmTXZ4_VvG",
        "outputId": "498f5f25-6f91-4fd4-f9f5-a67f24076f32"
      },
      "source": [
        "#Contoh List\n",
        "L1 = [1, 4, 2, 13]\n",
        "\n",
        "print(type(L1))"
      ],
      "execution_count": 1,
      "outputs": [
        {
          "output_type": "stream",
          "name": "stdout",
          "text": [
            "<class 'list'>\n"
          ]
        }
      ]
    },
    {
      "cell_type": "code",
      "metadata": {
        "colab": {
          "base_uri": "https://localhost:8080/"
        },
        "id": "1USfiY0d_byr",
        "outputId": "31ff2be5-56ec-4216-a6da-51382d8fd4c8"
      },
      "source": [
        "L2 = [\"a\",\"Phython\",3]\n",
        "L2"
      ],
      "execution_count": 7,
      "outputs": [
        {
          "output_type": "execute_result",
          "data": {
            "text/plain": [
              "['a', 'Phython', 3]"
            ]
          },
          "metadata": {},
          "execution_count": 7
        }
      ]
    },
    {
      "cell_type": "code",
      "metadata": {
        "colab": {
          "base_uri": "https://localhost:8080/"
        },
        "id": "DP6qUsQd_jBN",
        "outputId": "fa6e19e1-bee7-4a78-d1f6-ca036d830400"
      },
      "source": [
        "print(L1)\n",
        "print(L2)"
      ],
      "execution_count": 8,
      "outputs": [
        {
          "output_type": "stream",
          "name": "stdout",
          "text": [
            "[1, 4, 2, 13]\n",
            "['a', 'Phython', 3]\n"
          ]
        }
      ]
    },
    {
      "cell_type": "markdown",
      "metadata": {
        "id": "99sYM3o7_ow7"
      },
      "source": [
        "**Latihan 1**"
      ]
    },
    {
      "cell_type": "code",
      "metadata": {
        "colab": {
          "base_uri": "https://localhost:8080/"
        },
        "id": "_ZAN1011_s0n",
        "outputId": "f4cf08f2-de79-4294-b67f-e79ca8960075"
      },
      "source": [
        "#Buatlah List kalian sendiri\n",
        "L3 = [28, 11, 20, 2]\n",
        "\n",
        "print(type(L3))"
      ],
      "execution_count": 4,
      "outputs": [
        {
          "output_type": "stream",
          "name": "stdout",
          "text": [
            "<class 'list'>\n"
          ]
        }
      ]
    },
    {
      "cell_type": "code",
      "metadata": {
        "colab": {
          "base_uri": "https://localhost:8080/"
        },
        "id": "oYPdgLam_8iz",
        "outputId": "b5c23727-f2f3-4071-c335-20cd0fc1622e"
      },
      "source": [
        "L4 = [\"N\",\"Novyan Priseyani\",28]\n",
        "L4"
      ],
      "execution_count": 5,
      "outputs": [
        {
          "output_type": "execute_result",
          "data": {
            "text/plain": [
              "['N', 'Novyan Priseyani', 28]"
            ]
          },
          "metadata": {},
          "execution_count": 5
        }
      ]
    },
    {
      "cell_type": "code",
      "metadata": {
        "colab": {
          "base_uri": "https://localhost:8080/"
        },
        "id": "dPBkse__AG7Y",
        "outputId": "7a9c0813-6bba-4aa1-8b6f-8a5757a472b0"
      },
      "source": [
        "print(L3)\n",
        "print(L4)"
      ],
      "execution_count": 6,
      "outputs": [
        {
          "output_type": "stream",
          "name": "stdout",
          "text": [
            "[28, 11, 20, 2]\n",
            "['N', 'Novyan Priseyani', 28]\n"
          ]
        }
      ]
    },
    {
      "cell_type": "markdown",
      "metadata": {
        "id": "HiOlOllzAOTO"
      },
      "source": [
        "**Indeks di Phython(List, Tuple) mulai dari 0**"
      ]
    },
    {
      "cell_type": "code",
      "metadata": {
        "colab": {
          "base_uri": "https://localhost:8080/"
        },
        "id": "x4RVQGhaAg12",
        "outputId": "b9da4544-8081-4804-95ac-448188741cc9"
      },
      "source": [
        "#Sifat-sifat List\n",
        "\n",
        "#Terurut/Ordered\n",
        "print(\"Memanggil List L1 dengan indeks urutan:\", L1[0:3])\n",
        "\n",
        "#Bisa DIganti/Mutable\n",
        "L1[1] = 2\n",
        "print(\"List L1 setelah diganti elemennya:\", L1)\n",
        "\n",
        "L1 = [1, \"dua\", True, 2+3j]\n",
        "\n",
        "#Dapat Diindeks/Slicing\n",
        "print(\"Slicing List L1:\", L1[3])\n",
        "\n",
        "#Dapat Diijinkan Duplikasi\n",
        "L1 = [1, \"dua\", True, 2+3j, 2+3j]\n",
        "print(\"Duplikasi pada List L1:\", L1)"
      ],
      "execution_count": 11,
      "outputs": [
        {
          "output_type": "stream",
          "name": "stdout",
          "text": [
            "Memanggil List L1 dengan indeks urutan: [1, 4, 2]\n",
            "List L1 setelah diganti elemennya: [1, 2, 2, 13]\n",
            "Slicing List L1: (2+3j)\n",
            "Duplikasi pada List L1: [1, 'dua', True, (2+3j), (2+3j)]\n"
          ]
        }
      ]
    },
    {
      "cell_type": "markdown",
      "metadata": {
        "id": "q5V6jUUGDWYF"
      },
      "source": [
        "**Latihan 2**"
      ]
    },
    {
      "cell_type": "code",
      "metadata": {
        "colab": {
          "base_uri": "https://localhost:8080/"
        },
        "id": "4w-qG38cDbi5",
        "outputId": "edff6b80-7cef-4f5f-ff24-22570cfa1ccb"
      },
      "source": [
        "#Ganti elemen yang ada pada List yang kalian buat\n",
        "\n",
        "#Terurut/Ordered\n",
        "print(\"Memanggil List L3 dengan indeks urutan:\", L3[0:3])\n",
        "\n",
        "#Bisa DIganti/Mutable\n",
        "L3[3] = 5\n",
        "print(\"List L3 setelah diganti elemennya:\", L3)\n",
        "\n",
        "L3 = [11, \"empat\", True, 6+8j]\n",
        "\n",
        "#Dapat Diindeks/Slicing\n",
        "print(\"Slicing List L3:\", L3[3])\n",
        "\n",
        "#Dapat Diijinkan Duplikasi\n",
        "L3 = [28, \"dua\", True, 6+8j, 6+8j]\n",
        "print(\"Duplikasi pada List L3:\", L3)"
      ],
      "execution_count": 17,
      "outputs": [
        {
          "output_type": "stream",
          "name": "stdout",
          "text": [
            "Memanggil List L3 dengan indeks urutan: [7, 'delapan', True]\n",
            "List L3 setelah diganti elemennya: [7, 'delapan', True, 5]\n",
            "Slicing List L3: (6+8j)\n",
            "Duplikasi pada List L3: [28, 'dua', True, (6+8j), (6+8j)]\n"
          ]
        }
      ]
    }
  ]
}