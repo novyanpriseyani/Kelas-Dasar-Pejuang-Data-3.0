{
  "nbformat": 4,
  "nbformat_minor": 0,
  "metadata": {
    "colab": {
      "name": "M2P2V3_Konversi Struktur Data.ipynb",
      "provenance": []
    },
    "kernelspec": {
      "name": "python3",
      "display_name": "Python 3"
    },
    "language_info": {
      "name": "python"
    }
  },
  "cells": [
    {
      "cell_type": "markdown",
      "metadata": {
        "id": "lYR7QgevEolH"
      },
      "source": [
        "# Konversi Struktur Data"
      ]
    },
    {
      "cell_type": "markdown",
      "metadata": {
        "id": "bFfL-NGOEyLR"
      },
      "source": [
        "Fungsi untuk mengubah/konversi struktur data:\n",
        "\n",
        "a.   `list()` : untuk mengubah menjadi list\n",
        "\n",
        "b.  `tuple()` : untuk mengubah menjadi tuple\n",
        "\n",
        "c. `set()` : untuk mengubah menjadi set\n",
        "\n",
        "d. `dict()` : untuk mengubah menjadi dictionary"
      ]
    },
    {
      "cell_type": "markdown",
      "metadata": {
        "id": "h0vbuP0qFQrG"
      },
      "source": [
        "# Mengkonversi tipe data list:"
      ]
    },
    {
      "cell_type": "code",
      "metadata": {
        "id": "1yMZIuAQFpxh"
      },
      "source": [
        "# Membuat 2 list\n",
        "L1 = [1, 2, 3, 4]\n",
        "L2 = [5, 6, 7, 8]"
      ],
      "execution_count": 1,
      "outputs": []
    },
    {
      "cell_type": "code",
      "metadata": {
        "colab": {
          "base_uri": "https://localhost:8080/"
        },
        "id": "Rr6XB67NFy34",
        "outputId": "55d1fc27-6215-4cda-c5f8-1ab42d3a94cb"
      },
      "source": [
        "# Mengkonversi struktur data list\n",
        "k_tuple = tuple(L1)\n",
        "k_set = set(L2)\n",
        "k_dict = dict(zip(L1, L2))\n",
        "# Melihat data yang telah dikonversi\n",
        "print(k_tuple)\n",
        "print(k_set)\n",
        "print(k_dict)"
      ],
      "execution_count": 4,
      "outputs": [
        {
          "output_type": "stream",
          "name": "stdout",
          "text": [
            "(1, 2, 3, 4)\n",
            "{8, 5, 6, 7}\n",
            "{1: 5, 2: 6, 3: 7, 4: 8}\n"
          ]
        }
      ]
    },
    {
      "cell_type": "markdown",
      "metadata": {
        "id": "SNmqt0haGWSK"
      },
      "source": [
        "# Mengkonversi tipe data tuple:"
      ]
    },
    {
      "cell_type": "code",
      "metadata": {
        "id": "ropaH0JvH40O"
      },
      "source": [
        "# Membuat dua tuple\n",
        "T1 = (1, 2, 3, 4)\n",
        "T2 = (5, 6, 7, 8)"
      ],
      "execution_count": 5,
      "outputs": []
    },
    {
      "cell_type": "code",
      "metadata": {
        "colab": {
          "base_uri": "https://localhost:8080/"
        },
        "id": "dv-6BnGaIAd-",
        "outputId": "b46ececb-c185-4b9c-9676-e18afb1f15ed"
      },
      "source": [
        "# Mengkonversi struktur data tuple\n",
        "k_list = list(T1)\n",
        "k_set = set(T2)\n",
        "k_dict = dict(zip(T1, T2))\n",
        "# Melihat data yang telah dikonversi\n",
        "print(k_list)\n",
        "print(k_set)\n",
        "print(k_dict)"
      ],
      "execution_count": 9,
      "outputs": [
        {
          "output_type": "stream",
          "name": "stdout",
          "text": [
            "[1, 2, 3, 4]\n",
            "{8, 5, 6, 7}\n",
            "{1: 5, 2: 6, 3: 7, 4: 8}\n"
          ]
        }
      ]
    },
    {
      "cell_type": "markdown",
      "metadata": {
        "id": "XynDzTr6IxxB"
      },
      "source": [
        "# Mengkonversi tipe data set:"
      ]
    },
    {
      "cell_type": "code",
      "metadata": {
        "id": "DPCBs6bUI1N-"
      },
      "source": [
        "# Membuat dua set\n",
        "S1 = {1, 2, 3, 4}\n",
        "S2 = {5, 6, 7, 8}"
      ],
      "execution_count": 10,
      "outputs": []
    },
    {
      "cell_type": "code",
      "metadata": {
        "colab": {
          "base_uri": "https://localhost:8080/"
        },
        "id": "EIPlIXDKI9pl",
        "outputId": "97ab9e47-1996-4710-8d06-cd21ff4f05bf"
      },
      "source": [
        "# Mengkonversi struktur data set\n",
        "k_list = list(S1)\n",
        "k_set = set(S2)\n",
        "k_dict = dict(zip(S1, S2))\n",
        "# Melihat data yang telah dikonversi\n",
        "print(k_list)\n",
        "print(k_set)\n",
        "print(k_dict)"
      ],
      "execution_count": 11,
      "outputs": [
        {
          "output_type": "stream",
          "name": "stdout",
          "text": [
            "[1, 2, 3, 4]\n",
            "{8, 5, 6, 7}\n",
            "{1: 8, 2: 5, 3: 6, 4: 7}\n"
          ]
        }
      ]
    },
    {
      "cell_type": "markdown",
      "metadata": {
        "id": "z3ps0eFKJJ2-"
      },
      "source": [
        "# Mengkonversi tipe data list:"
      ]
    },
    {
      "cell_type": "code",
      "metadata": {
        "id": "5XOU5onWJW2C"
      },
      "source": [
        "# Membuat dictionary\n",
        "D = {\n",
        "    \"nama\": \"Andi\",\n",
        "    \"alamat\": \"Yogyakarta\",\n",
        "     \"umur\": 20\n",
        "}"
      ],
      "execution_count": 14,
      "outputs": []
    },
    {
      "cell_type": "code",
      "metadata": {
        "colab": {
          "base_uri": "https://localhost:8080/"
        },
        "id": "sOYnGhb-JrG2",
        "outputId": "396c3e26-58ad-4e54-c602-92e76ec53e2c"
      },
      "source": [
        "# Mengkonversi struktur data dictionary dari key dan value-nya\n",
        "k_list = list(D.keys())\n",
        "k_tuple = tuple(D.values())\n",
        "k_set = set(D.keys())\n",
        "# Melihat data yang telah dikonversi\n",
        "print(k_list)\n",
        "print(k_tuple)\n",
        "print(k_set)"
      ],
      "execution_count": 15,
      "outputs": [
        {
          "output_type": "stream",
          "name": "stdout",
          "text": [
            "['nama', 'alamat', 'umur']\n",
            "('Andi', 'Yogyakarta', 20)\n",
            "{'nama', 'umur', 'alamat'}\n"
          ]
        }
      ]
    },
    {
      "cell_type": "markdown",
      "metadata": {
        "id": "h7nCPC-kKLSh"
      },
      "source": [
        "# Latihan"
      ]
    },
    {
      "cell_type": "code",
      "metadata": {
        "id": "bN1QiJjWKOEd"
      },
      "source": [
        "# Lakukan konversi struktur data yang kalian buat pada notebook-notebook\n",
        "# sebelumnya menjadi list, tuple, set, dan dictionary (masing-masing satu)"
      ],
      "execution_count": null,
      "outputs": []
    },
    {
      "cell_type": "markdown",
      "metadata": {
        "id": "0a2PBVy6xs3e"
      },
      "source": [
        "### Mengkonversi tipe data List"
      ]
    },
    {
      "cell_type": "code",
      "metadata": {
        "id": "zE4Lr5uVxw_G"
      },
      "source": [
        "# Membuat 2 list\n",
        "L3 = [28, 11, 20, 2]\n",
        "L4 = [\"N\",\"Novyan Priseyani\",28]"
      ],
      "execution_count": 4,
      "outputs": []
    },
    {
      "cell_type": "code",
      "metadata": {
        "colab": {
          "base_uri": "https://localhost:8080/"
        },
        "id": "Hz4gPJj4yIVl",
        "outputId": "e3568f8a-8c1c-45cd-ac53-6c600a22443d"
      },
      "source": [
        "# Mengkonversi struktur data list\n",
        "k_tuple = tuple(L3)\n",
        "k_set = set(L4)\n",
        "k_dict = dict(zip(L3, L4))\n",
        "# Melihat data yang telah dikonversi\n",
        "print(k_tuple)\n",
        "print(k_set)\n",
        "print(k_dict)"
      ],
      "execution_count": 2,
      "outputs": [
        {
          "output_type": "stream",
          "name": "stdout",
          "text": [
            "(28, 11, 20, 2)\n",
            "{'N', 'Novyan Priseyani', 28}\n",
            "{28: 'N', 11: 'Novyan Priseyani', 20: 28}\n"
          ]
        }
      ]
    },
    {
      "cell_type": "markdown",
      "metadata": {
        "id": "cxVDSQUZyUgg"
      },
      "source": [
        "### Mengkonversi tipe data Tuple"
      ]
    },
    {
      "cell_type": "code",
      "metadata": {
        "id": "2qeNJWM7yX0u"
      },
      "source": [
        "# Membuat dua tuple\n",
        "T5 = (28, \"sebelas\", True, 20+2j)\n",
        "T6 = (5, \"tujuh\", True, 19+99j)"
      ],
      "execution_count": 6,
      "outputs": []
    },
    {
      "cell_type": "code",
      "metadata": {
        "colab": {
          "base_uri": "https://localhost:8080/"
        },
        "id": "4L6BbG-Sydfk",
        "outputId": "c45fe898-1fef-4bec-f3e6-e3a168411857"
      },
      "source": [
        "# Mengkonversi struktur data tuple\n",
        "k_list = list(T5)\n",
        "k_set = set(T6)\n",
        "k_dict = dict(zip(T5, T6))\n",
        "# Melihat data yang telah dikonversi\n",
        "print(k_list)\n",
        "print(k_set)\n",
        "print(k_dict)"
      ],
      "execution_count": 7,
      "outputs": [
        {
          "output_type": "stream",
          "name": "stdout",
          "text": [
            "[28, 'sebelas', True, (20+2j)]\n",
            "{True, 'tujuh', (19+99j), 5}\n",
            "{28: 5, 'sebelas': 'tujuh', True: True, (20+2j): (19+99j)}\n"
          ]
        }
      ]
    },
    {
      "cell_type": "markdown",
      "metadata": {
        "id": "If2e9R1yzMdW"
      },
      "source": [
        "### Mengkonversi tipe data Set"
      ]
    },
    {
      "cell_type": "code",
      "metadata": {
        "id": "FMkNDFyEzPd-"
      },
      "source": [
        "# Membuat dua set\n",
        "S2 = {6, \"tiga\", False, 8+6j}\n",
        "S3 = {9, 8, 7, 6}"
      ],
      "execution_count": 8,
      "outputs": []
    },
    {
      "cell_type": "code",
      "metadata": {
        "colab": {
          "base_uri": "https://localhost:8080/"
        },
        "id": "8jFEcRlLzVvb",
        "outputId": "84da5e31-96e3-4527-b5d3-d6b37a340e24"
      },
      "source": [
        "# Mengkonversi struktur data set\n",
        "k_list = list(S2)\n",
        "k_set = set(S3)\n",
        "k_dict = dict(zip(S2, S3))\n",
        "# Melihat data yang telah dikonversi\n",
        "print(k_list)\n",
        "print(k_set)\n",
        "print(k_dict)"
      ],
      "execution_count": 9,
      "outputs": [
        {
          "output_type": "stream",
          "name": "stdout",
          "text": [
            "[False, 'tiga', 6, (8+6j)]\n",
            "{8, 9, 6, 7}\n",
            "{False: 8, 'tiga': 9, 6: 6, (8+6j): 7}\n"
          ]
        }
      ]
    },
    {
      "cell_type": "markdown",
      "metadata": {
        "id": "tMxv3mxR0U9V"
      },
      "source": [
        "### Mengkonversi tipe data Dictionary"
      ]
    },
    {
      "cell_type": "code",
      "metadata": {
        "id": "QcbErmAP0X30"
      },
      "source": [
        "# Membuat dictionary\n",
        "D = {\n",
        "    \"nama\": \"Novyan Priseyani\",\n",
        "    \"alamat\": \"Madiun\",\n",
        "     \"umur\": 19\n",
        "}"
      ],
      "execution_count": 12,
      "outputs": []
    },
    {
      "cell_type": "code",
      "metadata": {
        "colab": {
          "base_uri": "https://localhost:8080/"
        },
        "id": "1fl5t0-m0d8l",
        "outputId": "f184ae8a-72bb-460a-ffb3-7ea50bac734e"
      },
      "source": [
        "# Mengkonversi struktur data dictionary dari key dan value-nya\n",
        "k_list = list(D.keys())\n",
        "k_tuple = tuple(D.values())\n",
        "k_set = set(D.keys())\n",
        "# Melihat data yang telah dikonversi\n",
        "print(k_list)\n",
        "print(k_tuple)\n",
        "print(k_set)"
      ],
      "execution_count": 13,
      "outputs": [
        {
          "output_type": "stream",
          "name": "stdout",
          "text": [
            "['nama', 'alamat', 'umur']\n",
            "('Novyan Priseyani', 'Madiun', 19)\n",
            "{'umur', 'alamat', 'nama'}\n"
          ]
        }
      ]
    }
  ]
}