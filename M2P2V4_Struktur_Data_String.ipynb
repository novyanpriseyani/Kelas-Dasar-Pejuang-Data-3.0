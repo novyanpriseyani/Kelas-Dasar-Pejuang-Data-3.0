{
  "nbformat": 4,
  "nbformat_minor": 0,
  "metadata": {
    "colab": {
      "name": "M2P2V4_Struktur_Data_String.ipynb",
      "provenance": []
    },
    "kernelspec": {
      "name": "python3",
      "display_name": "Python 3"
    },
    "language_info": {
      "name": "python"
    }
  },
  "cells": [
    {
      "cell_type": "markdown",
      "metadata": {
        "id": "PSKeyjS1KU7b"
      },
      "source": [
        "# String"
      ]
    },
    {
      "cell_type": "markdown",
      "metadata": {
        "id": "muWMigzJKcuA"
      },
      "source": [
        "String di deklarasikan dengan di apit oleh tanda petik."
      ]
    },
    {
      "cell_type": "code",
      "metadata": {
        "colab": {
          "base_uri": "https://localhost:8080/"
        },
        "id": "qx7U35D5Kgpq",
        "outputId": "bf8925ed-2fce-4647-939b-8512065fce3b"
      },
      "source": [
        "# Menampilkan string dengan fungsi print()\n",
        "print(\"Hello World!\")"
      ],
      "execution_count": 1,
      "outputs": [
        {
          "output_type": "stream",
          "name": "stdout",
          "text": [
            "Hello World!\n"
          ]
        }
      ]
    },
    {
      "cell_type": "code",
      "metadata": {
        "colab": {
          "base_uri": "https://localhost:8080/"
        },
        "id": "-cQ0ghDXKoEk",
        "outputId": "1c51f4ff-4868-4256-c5a7-f4bf47983f58"
      },
      "source": [
        "# Membuat variabel bertipe string\n",
        "A = \"Belajar struktur data string\"\n",
        "print(A)"
      ],
      "execution_count": 2,
      "outputs": [
        {
          "output_type": "stream",
          "name": "stdout",
          "text": [
            "Belajar struktur data string\n"
          ]
        }
      ]
    },
    {
      "cell_type": "code",
      "metadata": {
        "colab": {
          "base_uri": "https://localhost:8080/"
        },
        "id": "v_FiOvJNKyJd",
        "outputId": "75a2bfaa-f3ac-428b-c07d-f9b594d96b9f"
      },
      "source": [
        "# Membuat variabel string multi-line dengan 3 tanda petik\n",
        "B = \"\"\"Belajar Phyton\n",
        "Pejuang Data 3.0\n",
        "PSDS\n",
        "String\"\"\"\n",
        "print(B)"
      ],
      "execution_count": 3,
      "outputs": [
        {
          "output_type": "stream",
          "name": "stdout",
          "text": [
            "Belajar Phyton\n",
            "Pejuang Data 3.0\n",
            "PSDS\n",
            "String\n"
          ]
        }
      ]
    },
    {
      "cell_type": "code",
      "metadata": {
        "colab": {
          "base_uri": "https://localhost:8080/"
        },
        "id": "4HWl_KhbK-bn",
        "outputId": "2fae80a4-3589-421b-8bed-69f9eb03bce8"
      },
      "source": [
        "# Menampilkan karakter tertentu dalam string\n",
        "print(A[2])"
      ],
      "execution_count": 4,
      "outputs": [
        {
          "output_type": "stream",
          "name": "stdout",
          "text": [
            "l\n"
          ]
        }
      ]
    },
    {
      "cell_type": "code",
      "metadata": {
        "colab": {
          "base_uri": "https://localhost:8080/"
        },
        "id": "EIHGZGllLD_o",
        "outputId": "8c8b5f32-68f2-4cb3-dd5a-cca4d5f8b075"
      },
      "source": [
        "# Slicing pada string\n",
        "A = \"Belajar struktur data string\"\n",
        "print(A[:5])\n",
        "print(A[3:])\n",
        "print(A[-5:])\n",
        "print(A[4:9])"
      ],
      "execution_count": 5,
      "outputs": [
        {
          "output_type": "stream",
          "name": "stdout",
          "text": [
            "Belaj\n",
            "ajar struktur data string\n",
            "tring\n",
            "jar s\n"
          ]
        }
      ]
    },
    {
      "cell_type": "markdown",
      "metadata": {
        "id": "HK4kXNe_Lbby"
      },
      "source": [
        "# Latihan 1"
      ]
    },
    {
      "cell_type": "code",
      "metadata": {
        "colab": {
          "base_uri": "https://localhost:8080/"
        },
        "id": "uWyoN6NgLdk9",
        "outputId": "b243b4b9-80bf-48e1-e32f-deded9946086"
      },
      "source": [
        "# Buatlah variabel string lalu lakukan slicing dengan menghilangkan karakter pertama dan terakhir\n",
        "\n",
        "N = \"Novyan Priseyani Putri\"\n",
        "print(N)"
      ],
      "execution_count": 6,
      "outputs": [
        {
          "output_type": "stream",
          "name": "stdout",
          "text": [
            "Novyan Priseyani Putri\n"
          ]
        }
      ]
    },
    {
      "cell_type": "code",
      "metadata": {
        "colab": {
          "base_uri": "https://localhost:8080/"
        },
        "id": "SvvcPPkiL17l",
        "outputId": "ea32d458-04ca-4eb6-9545-12ccbc0c73cb"
      },
      "source": [
        "# Slicing pada string\n",
        "N = \"Novyan Priseyani Putri\"\n",
        "print(N[:4])\n",
        "print(N[7:])\n",
        "print(N[-10:])\n",
        "print(N[0:12])"
      ],
      "execution_count": 9,
      "outputs": [
        {
          "output_type": "stream",
          "name": "stdout",
          "text": [
            "Novy\n",
            "Priseyani Putri\n",
            "yani Putri\n",
            "Novyan Prise\n"
          ]
        }
      ]
    },
    {
      "cell_type": "markdown",
      "metadata": {
        "id": "_w7JzLBcMbN9"
      },
      "source": [
        "# Memodifikasi String"
      ]
    },
    {
      "cell_type": "code",
      "metadata": {
        "colab": {
          "base_uri": "https://localhost:8080/",
          "height": 35
        },
        "id": "xmfVYcKlMgEW",
        "outputId": "0fa33ab4-b42f-4284-eb35-8442639bbabf"
      },
      "source": [
        "# upper()\n",
        "A.upper()"
      ],
      "execution_count": 10,
      "outputs": [
        {
          "output_type": "execute_result",
          "data": {
            "application/vnd.google.colaboratory.intrinsic+json": {
              "type": "string"
            },
            "text/plain": [
              "'BELAJAR STRUKTUR DATA STRING'"
            ]
          },
          "metadata": {},
          "execution_count": 10
        }
      ]
    },
    {
      "cell_type": "code",
      "metadata": {
        "colab": {
          "base_uri": "https://localhost:8080/",
          "height": 35
        },
        "id": "IXK4-IiSMlO4",
        "outputId": "c6b5521c-ff45-4e3f-c24c-b27e18005c1c"
      },
      "source": [
        "# lower()\n",
        "A.lower()"
      ],
      "execution_count": 11,
      "outputs": [
        {
          "output_type": "execute_result",
          "data": {
            "application/vnd.google.colaboratory.intrinsic+json": {
              "type": "string"
            },
            "text/plain": [
              "'belajar struktur data string'"
            ]
          },
          "metadata": {},
          "execution_count": 11
        }
      ]
    },
    {
      "cell_type": "code",
      "metadata": {
        "colab": {
          "base_uri": "https://localhost:8080/",
          "height": 35
        },
        "id": "ZRrTkSiXMomN",
        "outputId": "605231e6-1fb9-404b-f5f6-a075ff7c8d39"
      },
      "source": [
        "# strip()\n",
        "A.strip()"
      ],
      "execution_count": 12,
      "outputs": [
        {
          "output_type": "execute_result",
          "data": {
            "application/vnd.google.colaboratory.intrinsic+json": {
              "type": "string"
            },
            "text/plain": [
              "'Belajar struktur data string'"
            ]
          },
          "metadata": {},
          "execution_count": 12
        }
      ]
    },
    {
      "cell_type": "code",
      "metadata": {
        "colab": {
          "base_uri": "https://localhost:8080/",
          "height": 35
        },
        "id": "YmLH3FB9Mt_U",
        "outputId": "a26b37f7-ffb2-49be-bb55-83ed0ef0d4d5"
      },
      "source": [
        "# replace()\n",
        "A.replace('1', 'd')"
      ],
      "execution_count": 20,
      "outputs": [
        {
          "output_type": "execute_result",
          "data": {
            "application/vnd.google.colaboratory.intrinsic+json": {
              "type": "string"
            },
            "text/plain": [
              "'Belajar Struktur Data String'"
            ]
          },
          "metadata": {},
          "execution_count": 20
        }
      ]
    },
    {
      "cell_type": "code",
      "metadata": {
        "colab": {
          "base_uri": "https://localhost:8080/"
        },
        "id": "JWM5UCq2M3gu",
        "outputId": "c2566099-1702-452e-ff54-ec88d5913fb6"
      },
      "source": [
        "# split()\n",
        "A.split()"
      ],
      "execution_count": 14,
      "outputs": [
        {
          "output_type": "execute_result",
          "data": {
            "text/plain": [
              "['Belajar', 'struktur', 'data', 'string']"
            ]
          },
          "metadata": {},
          "execution_count": 14
        }
      ]
    },
    {
      "cell_type": "markdown",
      "metadata": {
        "id": "wohYAnKFM8Kb"
      },
      "source": [
        "# Menggabungkan String"
      ]
    },
    {
      "cell_type": "code",
      "metadata": {
        "colab": {
          "base_uri": "https://localhost:8080/",
          "height": 35
        },
        "id": "jQELhL2SM_U1",
        "outputId": "a1a09d4e-e398-4ed5-e900-a9db9fa55bf6"
      },
      "source": [
        "A = \"Belajar Struktur Data String\"\n",
        "B = \"Pejuang Data 3.0\"\n",
        "A + \" \" + B"
      ],
      "execution_count": 15,
      "outputs": [
        {
          "output_type": "execute_result",
          "data": {
            "application/vnd.google.colaboratory.intrinsic+json": {
              "type": "string"
            },
            "text/plain": [
              "'Belajar Struktur Data String Pejuang Data 3.0'"
            ]
          },
          "metadata": {},
          "execution_count": 15
        }
      ]
    },
    {
      "cell_type": "markdown",
      "metadata": {
        "id": "zKLTCGFBNJ8w"
      },
      "source": [
        "# Latihan 2"
      ]
    },
    {
      "cell_type": "code",
      "metadata": {
        "colab": {
          "base_uri": "https://localhost:8080/",
          "height": 35
        },
        "id": "KIWYlukdNL0A",
        "outputId": "ab4f01b4-7d52-40ce-c05b-449b3542d128"
      },
      "source": [
        "# Ganti semua huruf vokal menjadi \"i\" pada string yang telah kalian buat pada latihan 1\n",
        "\n",
        "# replace()\n",
        "N.replace('2, 5, 9, 11, 13, 15, 17, 20', 'I')"
      ],
      "execution_count": 22,
      "outputs": [
        {
          "output_type": "execute_result",
          "data": {
            "application/vnd.google.colaboratory.intrinsic+json": {
              "type": "string"
            },
            "text/plain": [
              "'Novyan Priseyani Putri'"
            ]
          },
          "metadata": {},
          "execution_count": 22
        }
      ]
    }
  ]
}