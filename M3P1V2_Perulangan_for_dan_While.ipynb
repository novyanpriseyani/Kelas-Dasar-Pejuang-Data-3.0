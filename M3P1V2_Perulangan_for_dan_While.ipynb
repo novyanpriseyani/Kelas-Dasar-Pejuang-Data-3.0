{
  "nbformat": 4,
  "nbformat_minor": 0,
  "metadata": {
    "colab": {
      "name": "M3P1V2_Perulangan_for_dan_While.ipynb",
      "provenance": []
    },
    "kernelspec": {
      "name": "python3",
      "display_name": "Python 3"
    },
    "language_info": {
      "name": "python"
    }
  },
  "cells": [
    {
      "cell_type": "markdown",
      "metadata": {
        "id": "jBaQKh_AZmKJ"
      },
      "source": [
        "# **Looping/Perulangan**"
      ]
    },
    {
      "cell_type": "markdown",
      "metadata": {
        "id": "QyFfyHX7ZujQ"
      },
      "source": [
        "Phyton menyediakan dua statement untuk melakukan proses perulangan yaitu for dan while. Diantara kedua statement ini, secara umum for lebih banyak digunakan daripada while."
      ]
    },
    {
      "cell_type": "markdown",
      "metadata": {
        "id": "vzVt7S4faAgI"
      },
      "source": [
        "# For Loop"
      ]
    },
    {
      "cell_type": "markdown",
      "metadata": {
        "id": "_l8nzt5IaC1t"
      },
      "source": [
        "Perulangan `for` digunakan untuk melakukan iterasi di dalam `sequence` seperti `list`,`tuple`, `string`, dan `array` atau objek yang dapat diiterasi lainnya."
      ]
    },
    {
      "cell_type": "markdown",
      "metadata": {
        "id": "-HD5l2LPaNby"
      },
      "source": [
        "**For Loop Syntax**"
      ]
    },
    {
      "cell_type": "code",
      "metadata": {
        "id": "gIjNAK_XasyS"
      },
      "source": [
        "for val in sequence:\n",
        "    loop body"
      ],
      "execution_count": null,
      "outputs": []
    },
    {
      "cell_type": "markdown",
      "metadata": {
        "id": "Y7IHqflmamFq"
      },
      "source": [
        "**For Loop Flowchart**"
      ]
    },
    {
      "cell_type": "markdown",
      "metadata": {
        "id": "fxhwgNcCaul5"
      },
      "source": [
        "![r-for-loop.jpg](data:image/jpeg;base64,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)"
      ]
    },
    {
      "cell_type": "markdown",
      "metadata": {
        "id": "jFodiGRmbGX9"
      },
      "source": [
        "**Example: Phython for Loop**"
      ]
    },
    {
      "cell_type": "code",
      "metadata": {
        "colab": {
          "base_uri": "https://localhost:8080/"
        },
        "id": "57-YrWMgbKoI",
        "outputId": "db08cee3-8bf9-4924-c22b-8fd59be69069"
      },
      "source": [
        "# Program untuk menghitung jumlah semua angka dalam sebuah list\n",
        "L1 = [2, 4, 5, 7, 9]\n",
        "jumlah = 0\n",
        "\n",
        "# iterasi di dalam list\n",
        "for i in L1:\n",
        "  jumlah = jumlah + i\n",
        "\n",
        "print(jumlah)"
      ],
      "execution_count": 2,
      "outputs": [
        {
          "output_type": "stream",
          "name": "stdout",
          "text": [
            "27\n"
          ]
        }
      ]
    },
    {
      "cell_type": "markdown",
      "metadata": {
        "id": "xdzlwjMwbqXl"
      },
      "source": [
        "# **The Range() function**"
      ]
    },
    {
      "cell_type": "code",
      "metadata": {
        "colab": {
          "base_uri": "https://localhost:8080/"
        },
        "id": "BchuhdJ8bwBr",
        "outputId": "f5b00695-e6f7-4ebe-bdf8-dc95eb4845c2"
      },
      "source": [
        "# program untuk melakukan iterasi di dalam list melalui indeks\n",
        "minuman = [\"teh\", \"boba\", \"kopi\", \"susu\"]\n",
        "p = len(minuman)\n",
        "\n",
        "#iterasi di dalam list melalui indeks\n",
        "for i in range(p):\n",
        "  print(minuman[i])"
      ],
      "execution_count": 3,
      "outputs": [
        {
          "output_type": "stream",
          "name": "stdout",
          "text": [
            "teh\n",
            "boba\n",
            "kopi\n",
            "susu\n"
          ]
        }
      ]
    },
    {
      "cell_type": "markdown",
      "metadata": {
        "id": "s0vnesRLclR6"
      },
      "source": [
        "# **for Loop with Else**"
      ]
    },
    {
      "cell_type": "code",
      "metadata": {
        "colab": {
          "base_uri": "https://localhost:8080/"
        },
        "id": "_07PUiwbcrNE",
        "outputId": "7777dd37-17ae-429e-dae5-1d33554c0b14"
      },
      "source": [
        "# contoh for Loop menggunakan Else\n",
        "for i in range(p):\n",
        "  print(minuman[i])\n",
        "else:\n",
        "  print(\"Elemen sudah habis\")"
      ],
      "execution_count": 4,
      "outputs": [
        {
          "output_type": "stream",
          "name": "stdout",
          "text": [
            "teh\n",
            "boba\n",
            "kopi\n",
            "susu\n",
            "Elemen sudah habis\n"
          ]
        }
      ]
    },
    {
      "cell_type": "markdown",
      "metadata": {
        "id": "138SMXx4dAJp"
      },
      "source": [
        "# Latihan 1"
      ]
    },
    {
      "cell_type": "markdown",
      "metadata": {
        "id": "lSO0A6sydDm9"
      },
      "source": [
        "Diberikan `list_tagihan`. Kamu diminta untuk menghitung jumlah seluruh tagihan!. Gunakan looping `for` untuk menyelesaikan tugas ini! Simpah hasilnya pada variabel `total_tagihan`!"
      ]
    },
    {
      "cell_type": "markdown",
      "metadata": {
        "id": "vVyly6Ledoq1"
      },
      "source": [
        "`list_tagihan = [50000, 75000, -150000, 125000, 300000, -50000, 200000]`"
      ]
    },
    {
      "cell_type": "code",
      "metadata": {
        "colab": {
          "base_uri": "https://localhost:8080/"
        },
        "id": "9ydOWRBmdj_b",
        "outputId": "b1f6ed69-b13f-4da0-da3f-b761cdc95352"
      },
      "source": [
        "# tuliskan code kalian\n",
        "\n",
        "list_tagihan = [50000, 75000, -150000, 125000, 300000, -50000, 200000]\n",
        "jumlah = 0\n",
        "\n",
        "#iterasi di dalam list\n",
        "for i in list_tagihan:\n",
        "  jumlah = jumlah + i\n",
        "\n",
        "print(jumlah)"
      ],
      "execution_count": 5,
      "outputs": [
        {
          "output_type": "stream",
          "name": "stdout",
          "text": [
            "550000\n"
          ]
        }
      ]
    },
    {
      "cell_type": "markdown",
      "metadata": {
        "id": "a_MRl2npeSVZ"
      },
      "source": [
        "# While Loop"
      ]
    },
    {
      "cell_type": "markdown",
      "metadata": {
        "id": "KPQMB8AkeU2n"
      },
      "source": [
        "While Loop pada phython digunakan untuk melakukan iterasi pada blok kode selama nilai dari `test expression` adalah `true`."
      ]
    },
    {
      "cell_type": "markdown",
      "metadata": {
        "id": "N1HjT1MeefqW"
      },
      "source": [
        "**Syntax of While Loop in Phython**"
      ]
    },
    {
      "cell_type": "code",
      "metadata": {
        "id": "NunX_zONelDz"
      },
      "source": [
        "while test_expression:\n",
        "    Body of while"
      ],
      "execution_count": null,
      "outputs": []
    },
    {
      "cell_type": "markdown",
      "metadata": {
        "id": "WSVt1r41eqW0"
      },
      "source": [
        "**While Loop Flowchart**"
      ]
    },
    {
      "cell_type": "markdown",
      "metadata": {
        "id": "PQlDqjoJfOTY"
      },
      "source": [
        "![2c6c8a0fb55e61fa2dbe2b878f361abd.jpg](data:image/jpeg;base64,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)"
      ]
    },
    {
      "cell_type": "markdown",
      "metadata": {
        "id": "ABi90PC-fT8K"
      },
      "source": [
        "**Example: Phython While Loop**"
      ]
    },
    {
      "cell_type": "code",
      "metadata": {
        "colab": {
          "base_uri": "https://localhost:8080/"
        },
        "id": "0IfqRPWXfYNN",
        "outputId": "37d9bf39-f3b2-4372-989b-d8e80e819e6e"
      },
      "source": [
        "# program untuk menjumlahkan semua\n",
        "#bilangan asli hingga suku ke-n\n",
        "#jum = 1+2+3+...+n\n",
        "\n",
        "n = 10\n",
        "jumlah = 0\n",
        "i = 1\n",
        "\n",
        "while i <= n:\n",
        "  jumlah = jumlah + i\n",
        "  i = i + 1\n",
        "\n",
        "print(jumlah)"
      ],
      "execution_count": 8,
      "outputs": [
        {
          "output_type": "stream",
          "name": "stdout",
          "text": [
            "55\n"
          ]
        }
      ]
    },
    {
      "cell_type": "markdown",
      "metadata": {
        "id": "9JoAD6PTfvlo"
      },
      "source": [
        "**While Loop with Else**"
      ]
    },
    {
      "cell_type": "markdown",
      "metadata": {
        "id": "_DfdojGaf0HM"
      },
      "source": [
        "Sama dengan `for` loop kita juga dapat mengkombinasika `while` loop dengan blok `else`.\n",
        "\n",
        "Bagian `else` akan diekseskusi jika nilai pada `test expression pada` pada `while loop` bernilai `false`. Perhatikan contoh berikut:"
      ]
    },
    {
      "cell_type": "code",
      "metadata": {
        "colab": {
          "base_uri": "https://localhost:8080/"
        },
        "id": "aWS27mM_gRu7",
        "outputId": "6fc7dd02-2dc4-4e44-e8b4-48024b831fb4"
      },
      "source": [
        "jum = 0\n",
        "i = 1\n",
        "while i <= n:\n",
        "  jum = jum + i\n",
        "  i = i + 1\n",
        "else:\n",
        "  print(jum) #diekseskusi di luar looping"
      ],
      "execution_count": 9,
      "outputs": [
        {
          "output_type": "stream",
          "name": "stdout",
          "text": [
            "55\n"
          ]
        }
      ]
    },
    {
      "cell_type": "markdown",
      "metadata": {
        "id": "1wAmNnUKggSP"
      },
      "source": [
        "# Latihan 2"
      ]
    },
    {
      "cell_type": "markdown",
      "metadata": {
        "id": "h9lo6ez5gkmm"
      },
      "source": [
        "Diberikan list `tagihan` hitunglah `total_tagihan` menggunakan `while loop`."
      ]
    },
    {
      "cell_type": "markdown",
      "metadata": {
        "id": "hLzEXgZQgsgp"
      },
      "source": [
        "`tagihan = [ 50000, 75000, 125000, 300000, 200000]`"
      ]
    },
    {
      "cell_type": "code",
      "metadata": {
        "colab": {
          "base_uri": "https://localhost:8080/"
        },
        "id": "cbGlvMvJg0Qi",
        "outputId": "c8e690de-8576-46f9-9eeb-710551a25b1d"
      },
      "source": [
        "# Tuliskan codemu\n",
        "\n",
        "tagihan = [50000, 75000, 125000, 300000, 200000]\n",
        "total_tagihan = 0\n",
        "tagihan_min = 50000\n",
        "n = 0\n",
        "\n",
        "while n <= 4:\n",
        "    tagihan_min = tagihan_min + n*25000\n",
        "    total_tagihan = tagihan_min + total_tagihan\n",
        "    n = n + 1\n",
        "\n",
        "print(total_tagihan)"
      ],
      "execution_count": 25,
      "outputs": [
        {
          "output_type": "stream",
          "name": "stdout",
          "text": [
            "750000\n"
          ]
        }
      ]
    }
  ]
}