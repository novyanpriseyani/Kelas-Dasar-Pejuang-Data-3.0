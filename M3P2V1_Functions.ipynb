{
  "nbformat": 4,
  "nbformat_minor": 0,
  "metadata": {
    "colab": {
      "name": "M3P2V1_Functions.ipynb",
      "provenance": []
    },
    "kernelspec": {
      "name": "python3",
      "display_name": "Python 3"
    },
    "language_info": {
      "name": "python"
    }
  },
  "cells": [
    {
      "cell_type": "markdown",
      "metadata": {
        "id": "D7VVLczypgo_"
      },
      "source": [
        "# Function"
      ]
    },
    {
      "cell_type": "markdown",
      "metadata": {
        "id": "3_XdKOudpkww"
      },
      "source": [
        "Function (fungsi) adalah sebuah blok statemen yang hanya akan dijalankan saat ia dipanggil.\n",
        "\n",
        "Fungsi len() untuk mengukur jumlah elemen dalam sebuah list dan fungsi print() untuk menampilkan pesan pada layar konsol merupakan contoh dari bentuk fungsi yang telah disediakan oleh bahasa pemrogaman Phython atau dengan kata lain built-in functions. \n",
        "\n",
        "selain fungai yang telag disediakan oleh Phython, Phython mengizinkan untuk mendeklarasikan fungsi dalam kode yang dituliskan yang dikenal dengan user defined function."
      ]
    },
    {
      "cell_type": "markdown",
      "metadata": {
        "id": "T0hdD1qCsQUC"
      },
      "source": [
        "`def nama_fungsi(argument):`\n",
        "\n",
        "    statement_1\n",
        "    ...\n",
        "    statement_n\n",
        "    return returned_value"
      ]
    },
    {
      "cell_type": "markdown",
      "metadata": {
        "id": "lkJl2dpRswkD"
      },
      "source": [
        "\n",
        "*   **nama_fungsi** adalah nama utuk fungsi yang Anda definisikan, memiliki aturan seperti penamaan variabel.\n",
        "*   **argument** adalah variabel masukan ke fungsi, bisa tanpa variabel, satu variabel atau lebih.\n",
        "*   **statement_1**...statement_n adalah algoritma yang telah Anda transfer dalam bahasa Phython yang merupakan inti dari fungsi yang Anda definisikan. Seluruh statement adalah menjorok (indent) ke dalam seperti yang pernah Anda pelajari pada conditioning dan looping.\n",
        "*   **return_value** adalah variabel output dari fungsi Anda, bisa tanpa variabel, satu variabel atau lebih.\n",
        "\n",
        "\n",
        "\n"
      ]
    },
    {
      "cell_type": "markdown",
      "metadata": {
        "id": "3noNNRPotrfx"
      },
      "source": [
        "# Argumen dan Parameter\n",
        "\n",
        "*   **Parameter** adalah variabel yang digunakan dalam deklarasi fungsi.\n",
        "*   **Argumen** adalah nilai yang diberikan saat pemanggilan fungsi.\n",
        "\n"
      ]
    },
    {
      "cell_type": "code",
      "metadata": {
        "colab": {
          "base_uri": "https://localhost:8080/"
        },
        "id": "zQZRMTFGuGLk",
        "outputId": "9f46003e-ff48-4b89-977b-9b449bc24794"
      },
      "source": [
        "def print_nama(nama):    # 'nama' adalah parameter\n",
        "    print(nama)\n",
        "\n",
        "print_nama('Budi')  # 'Budi' adalah argumen"
      ],
      "execution_count": 2,
      "outputs": [
        {
          "output_type": "stream",
          "name": "stdout",
          "text": [
            "Budi\n"
          ]
        }
      ]
    },
    {
      "cell_type": "markdown",
      "metadata": {
        "id": "51ag9Kzuu7CA"
      },
      "source": [
        "# Argumen posisi dan kata kunci"
      ]
    },
    {
      "cell_type": "markdown",
      "metadata": {
        "id": "Wlf4FQk-u_Ww"
      },
      "source": [
        "Kita bisa menyatakan argumen sebagai argumen posisi atau kata kunci. Beberapa manfaat argumen kata kunci dapat berupa:\n",
        "\n",
        "*   Kita dapat menyebut argumen dengan nama mereka untuk memperjelas apa yang mereka wakili\n",
        "*   Kita dapat mengatur ulang argumen dengan cara yang membuatnya paling mudah dibaca\n",
        "\n"
      ]
    },
    {
      "cell_type": "code",
      "metadata": {
        "colab": {
          "base_uri": "https://localhost:8080/"
        },
        "id": "L5SaynWPvXHl",
        "outputId": "7b057ce2-6c74-4d09-dc9a-76ea2afcb686"
      },
      "source": [
        "def angka(a, b, c):\n",
        "    print(a, b, c)\n",
        "\n",
        "# argumen posisi\n",
        "# argumen berdasarkan posisinya\n",
        "angka(1, 2, 3)\n",
        "\n",
        "# argumen berdasarkan kata kuncinya\n",
        "angka(a=1, b=2, c=3)\n",
        "angka(c=3, b=2, a=1)\n",
        "# Catatan: jika sudah diberi kunci maka urutan tidak menjadi penting\n",
        "\n",
        "# campuran antara argumen posisi dan argumen kata kunci\n",
        "angka(1, b=2, c=3)\n",
        "\n",
        "# ini tidak diijinkan:\n",
        "# foo(1, b=2, 3)  # argumen posisional setelah argumen kunci\n",
        "# foo(1, b=2, a=3)  # terdapat dua nilai untuk argumen kunci 'a'"
      ],
      "execution_count": 4,
      "outputs": [
        {
          "output_type": "stream",
          "name": "stdout",
          "text": [
            "1 2 3\n",
            "1 2 3\n",
            "1 2 3\n",
            "1 2 3\n"
          ]
        }
      ]
    },
    {
      "cell_type": "markdown",
      "metadata": {
        "id": "aTgKfqf0wMyQ"
      },
      "source": [
        "# Argumen Default"
      ]
    },
    {
      "cell_type": "markdown",
      "metadata": {
        "id": "UVB-SLYhwQxd"
      },
      "source": [
        "Fungsi dapat memiliki argumen default dengan nilai yan gtelah ditentukan sebelumnya. Argumen ini dapat ditinggalkan dan nilai default kemudian diteruskan ke fungsi, atau argumen dapat dirubah dengan nilai yang berbeda. Perhatikan bahwa argumen default harus ditentukan sebagai **parameter terakhir** dalam suatu fungsi."
      ]
    },
    {
      "cell_type": "code",
      "metadata": {
        "colab": {
          "base_uri": "https://localhost:8080/"
        },
        "id": "ucZlLFqiwm55",
        "outputId": "185d84ea-71d8-4069-d690-dbc52fb2c181"
      },
      "source": [
        "# Argumen default\n",
        "def angka(a, b, c, d=4):\n",
        "    print(a, b, c, d)\n",
        "\n",
        "angka(1, 2, 3, 4)\n",
        "angka(1, b=2, c=3, d=100)\n",
        "\n",
        "# Argumen default harus diletakkan terakhir"
      ],
      "execution_count": 9,
      "outputs": [
        {
          "output_type": "stream",
          "name": "stdout",
          "text": [
            "1 2 3 4\n",
            "1 2 3 100\n"
          ]
        }
      ]
    },
    {
      "cell_type": "markdown",
      "metadata": {
        "id": "8K5yuXwNxz1i"
      },
      "source": [
        "# Praktik Membuat Fungsi"
      ]
    },
    {
      "cell_type": "code",
      "metadata": {
        "colab": {
          "base_uri": "https://localhost:8080/"
        },
        "id": "WJ-4Gbaux26D",
        "outputId": "5ca5d96c-600a-42f2-8c91-2696b4dec782"
      },
      "source": [
        "x = 1\n",
        "y = 2\n",
        "x*y"
      ],
      "execution_count": 10,
      "outputs": [
        {
          "output_type": "execute_result",
          "data": {
            "text/plain": [
              "2"
            ]
          },
          "metadata": {},
          "execution_count": 10
        }
      ]
    },
    {
      "cell_type": "code",
      "metadata": {
        "colab": {
          "base_uri": "https://localhost:8080/"
        },
        "id": "rLRFF19Ix7QZ",
        "outputId": "5d058e86-55a1-463d-df9c-51769245690a"
      },
      "source": [
        "def penjumlahan(x, y):  #input\n",
        "  a=x+y                 #proses\n",
        "  return a              #output\n",
        "\n",
        "penjumlahan(1, 2)       #menggunakan fungsi"
      ],
      "execution_count": 11,
      "outputs": [
        {
          "output_type": "execute_result",
          "data": {
            "text/plain": [
              "3"
            ]
          },
          "metadata": {},
          "execution_count": 11
        }
      ]
    },
    {
      "cell_type": "markdown",
      "metadata": {
        "id": "VWEH9ofMyO9M"
      },
      "source": [
        "Penjumlahan yang memungkinkan untuk tiga bilangan"
      ]
    },
    {
      "cell_type": "code",
      "metadata": {
        "colab": {
          "base_uri": "https://localhost:8080/"
        },
        "id": "g8E_cTwfySZv",
        "outputId": "b2cae530-fe9d-4d9f-e5f4-f84feb46f6a0"
      },
      "source": [
        "def penjumlahan(x, y, z=None):\n",
        "    if (z==None):\n",
        "        return x+y\n",
        "    else:\n",
        "        return x+y+z\n",
        "\n",
        "print(penjumlahan(1, 2))\n",
        "print(penjumlahan(1, 2, 3))"
      ],
      "execution_count": 12,
      "outputs": [
        {
          "output_type": "stream",
          "name": "stdout",
          "text": [
            "3\n",
            "6\n"
          ]
        }
      ]
    },
    {
      "cell_type": "markdown",
      "metadata": {
        "id": "gPedhKgSywxK"
      },
      "source": [
        "Menyimpan hasil fungsi dalam variabel"
      ]
    },
    {
      "cell_type": "code",
      "metadata": {
        "colab": {
          "base_uri": "https://localhost:8080/"
        },
        "id": "L2EcoOa4yz0k",
        "outputId": "792299e3-8e85-4a4c-a9d7-a9a7a7836201"
      },
      "source": [
        "def penjumlahan(x, y):\n",
        "    return x+y\n",
        "\n",
        "a = penjumlahan\n",
        "a(1, 2)"
      ],
      "execution_count": 13,
      "outputs": [
        {
          "output_type": "execute_result",
          "data": {
            "text/plain": [
              "3"
            ]
          },
          "metadata": {},
          "execution_count": 13
        }
      ]
    },
    {
      "cell_type": "markdown",
      "metadata": {
        "id": "kjVifYKyy9cQ"
      },
      "source": [
        "# Latihan 1"
      ]
    },
    {
      "cell_type": "markdown",
      "metadata": {
        "id": "KUBZMV6gy_kf"
      },
      "source": [
        "Buatlah function Phytagoras dengan input argumennya panjang tinggi dan alas segitiga untuk menghasilkan output nilai panjang sisi miring."
      ]
    },
    {
      "cell_type": "code",
      "metadata": {
        "colab": {
          "base_uri": "https://localhost:8080/"
        },
        "id": "O62uMlPJzJs-",
        "outputId": "3a520b0e-edde-450f-e701-9226d089db88"
      },
      "source": [
        "# Ketikkan codemu\n",
        "\n",
        "a = 3**2\n",
        "b = 4**2\n",
        "\n",
        "def penjumlahan(a, b):\n",
        "  c = a + b\n",
        "  return c**0.5\n",
        "\n",
        "penjumlahan(3**2, 4**2)"
      ],
      "execution_count": 45,
      "outputs": [
        {
          "output_type": "execute_result",
          "data": {
            "text/plain": [
              "5.0"
            ]
          },
          "metadata": {},
          "execution_count": 45
        }
      ]
    },
    {
      "cell_type": "markdown",
      "metadata": {
        "id": "i3AtokwV6lqC"
      },
      "source": [
        "# Latihan 2"
      ]
    },
    {
      "cell_type": "markdown",
      "metadata": {
        "id": "RSRf2oVQ6p0Q"
      },
      "source": [
        "Buatlah function luas permukaan balok dengan input argumennya panjang, lebar, dan tinggi dari balok untuk menghasilkan output nilai luas permukaan balok tersebut"
      ]
    },
    {
      "cell_type": "code",
      "metadata": {
        "colab": {
          "base_uri": "https://localhost:8080/"
        },
        "id": "s5wmSDGp63nO",
        "outputId": "03151d9a-fd73-4eb4-ab3c-12fe74788c81"
      },
      "source": [
        "# Ketikkan kodemu\n",
        "\n",
        "p = 5\n",
        "l = 6\n",
        "t = 7\n",
        "\n",
        "def penjumlahan(p, l, t):\n",
        "  luas = 2*p*l + 2*p*l + 2*t*l\n",
        "  return luas\n",
        "\n",
        "penjumlahan(5, 6, 7)"
      ],
      "execution_count": 47,
      "outputs": [
        {
          "output_type": "execute_result",
          "data": {
            "text/plain": [
              "204"
            ]
          },
          "metadata": {},
          "execution_count": 47
        }
      ]
    }
  ]
}