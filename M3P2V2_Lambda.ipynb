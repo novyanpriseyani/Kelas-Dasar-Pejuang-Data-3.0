{
  "nbformat": 4,
  "nbformat_minor": 0,
  "metadata": {
    "colab": {
      "name": "M3P2V2_Lambda.ipynb",
      "provenance": []
    },
    "kernelspec": {
      "name": "python3",
      "display_name": "Python 3"
    },
    "language_info": {
      "name": "python"
    }
  },
  "cells": [
    {
      "cell_type": "markdown",
      "metadata": {
        "id": "zZDO_EJ7sd3y"
      },
      "source": [
        "# Lambda"
      ]
    },
    {
      "cell_type": "markdown",
      "metadata": {
        "id": "rMeiRnIzsgM1"
      },
      "source": [
        "Fungsi Lambda adalah fungsi anonim `one line` yang didefinisikan tanpa nama. Fungsi Lambda dapat mengambil sejumlah `arguments`, tetapi hanya dapat memiliki satu `expression`. Sementara fungsi normal didefinisikan menggunakan kata kunci `def`, dalam Phython fungsi anonim didefinisikan menggunakan kata kunci Lambda.\n",
        "\n",
        "Fungsi Lambda digunanakan ketika fungsi sederhana hanya digunakan sekali untuk waktu yang singkat dalam kode kita. Penggunaannya yang paling umum adalah sebagai argumen untuk fungsi tingkat tinggi (fungsi yang menggunakan fungsi lain sebagai argumen)."
      ]
    },
    {
      "cell_type": "markdown",
      "metadata": {
        "id": "mIL0VH8atO6w"
      },
      "source": [
        "Lambda expression di Phython adalah sebuah ekspresi untuk membuat fungsi.\n",
        "\n",
        "Lambda sendiri berasal dari teori kalkulus, yakni Lambda Calculus yang dikenalkan oleh Alonzo Church di tahun 1930.\n",
        "\n",
        "Berkat Lambda, kita bisa membuat fungsi tanpa nama atau dikenal juga dengan anonymous function.\n",
        "\n",
        "Misalkan kita punya fungsu penjumlahan kuadrat seperti ini:"
      ]
    },
    {
      "cell_type": "code",
      "metadata": {
        "id": "biTe3lwRtolF"
      },
      "source": [
        "def suqare_sum(x,y):\n",
        "  return x**2 + y**2"
      ],
      "execution_count": 1,
      "outputs": []
    },
    {
      "cell_type": "markdown",
      "metadata": {
        "id": "4DsJYtxEt1jr"
      },
      "source": [
        "dengan Lambda.. kita tidak perlu menggunakan def dan return, bahkan kita juga tidak perlu menuliskan namanya."
      ]
    },
    {
      "cell_type": "code",
      "metadata": {
        "colab": {
          "base_uri": "https://localhost:8080/"
        },
        "id": "soZ6Hck1t9pa",
        "outputId": "850c690c-73ce-415a-cec8-ee796d6c1345"
      },
      "source": [
        "lambda x,y : x**2 + y**2"
      ],
      "execution_count": 2,
      "outputs": [
        {
          "output_type": "execute_result",
          "data": {
            "text/plain": [
              "<function __main__.<lambda>>"
            ]
          },
          "metadata": {},
          "execution_count": 2
        }
      ]
    },
    {
      "cell_type": "markdown",
      "metadata": {
        "id": "nS2UlnDouEH8"
      },
      "source": [
        "# Menggunakan Lambda Expression"
      ]
    },
    {
      "cell_type": "markdown",
      "metadata": {
        "id": "W0-oTy2AuHvf"
      },
      "source": [
        "Intinya, Lambda digunakan untuk membuat fungsi dalam satu baris ekspresi.\n",
        "\n",
        "Ini adalah format untuk membuat fungsi Lambda:\n",
        "\n",
        "![download.png](data:image/png;base64,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)\n",
        "\n",
        "Lambda bisa memiliki lebih dari satu argumen atau parameter, tapi hanya bisa memiliki satu ekspresi atau isi."
      ]
    },
    {
      "cell_type": "code",
      "metadata": {
        "id": "yfzatgcaurrK"
      },
      "source": [
        "greeting = lambda name: print(f\"Hello, {name}\")"
      ],
      "execution_count": 3,
      "outputs": []
    },
    {
      "cell_type": "markdown",
      "metadata": {
        "id": "fcFXz_6eu5zu"
      },
      "source": [
        "Karena fungsi lambda tidak punya nama, jadi kita butuh variabel untuk meyimpannya.\n",
        "\n",
        "Nanti saat kita mau panggil, kita tinggal tuliskan saja nama variabelnya seperti ini:"
      ]
    },
    {
      "cell_type": "code",
      "metadata": {
        "colab": {
          "base_uri": "https://localhost:8080/"
        },
        "id": "-mQNGrMyvMzQ",
        "outputId": "298ec1e5-9834-45f2-fa4e-3862a07d3b2d"
      },
      "source": [
        "greeting(\"Dian\")\n",
        "greeting(\"Ayu\")"
      ],
      "execution_count": 5,
      "outputs": [
        {
          "output_type": "stream",
          "name": "stdout",
          "text": [
            "Hello, Dian\n",
            "Hello, Ayu\n"
          ]
        }
      ]
    },
    {
      "cell_type": "markdown",
      "metadata": {
        "id": "gwmdNxHmvTfW"
      },
      "source": [
        "Beberapa contoh penggunaan fungsi lambda"
      ]
    },
    {
      "cell_type": "code",
      "metadata": {
        "colab": {
          "base_uri": "https://localhost:8080/"
        },
        "id": "8jcYeT4QvXMK",
        "outputId": "e5314797-fa4d-4a21-8243-5b18b95cccff"
      },
      "source": [
        "# Fungsi lambda untuk menambahkan angka 10 kepada argument input\n",
        "f = lambda x: x+10\n",
        "val1 = f(5)\n",
        "val2 = f(100)\n",
        "print(val1, val2)"
      ],
      "execution_count": 6,
      "outputs": [
        {
          "output_type": "stream",
          "name": "stdout",
          "text": [
            "15 110\n"
          ]
        }
      ]
    },
    {
      "cell_type": "code",
      "metadata": {
        "colab": {
          "base_uri": "https://localhost:8080/"
        },
        "id": "u343HkMxvl0r",
        "outputId": "b332d50c-a084-4c30-9eb7-85273219658e"
      },
      "source": [
        "# Fungsi lambda untuk mengalikan dua argumen input dan menampilkan hasilnya\n",
        "f = lambda x,y: x*y\n",
        "val3 = f(2, 10)\n",
        "val4 = f(7, 5)\n",
        "print(val3, val4)"
      ],
      "execution_count": 7,
      "outputs": [
        {
          "output_type": "stream",
          "name": "stdout",
          "text": [
            "20 35\n"
          ]
        }
      ]
    },
    {
      "cell_type": "markdown",
      "metadata": {
        "id": "vt7D7x-tv0fh"
      },
      "source": [
        "# Anonymous Function"
      ]
    },
    {
      "cell_type": "markdown",
      "metadata": {
        "id": "KVJ6AlHGv4Vx"
      },
      "source": [
        "Karena lambda adalah anonymous function, ia akan bebas menggunakan nama apa saja. Dengan kata lain, fungsi lambda bisa disimpan di variabel manapun. Ini tentunya tidak bisa dilakukan oleh fungsi yang dibuat dengan def. Coba perhatikan ini:"
      ]
    },
    {
      "cell_type": "code",
      "metadata": {
        "colab": {
          "base_uri": "https://localhost:8080/",
          "height": 197
        },
        "id": "1hjc4BfdwWqF",
        "outputId": "dd0c0054-577b-480d-c292-81db6aef52cd"
      },
      "source": [
        "def say_hello(nama):\n",
        "  print(f\"Hello {nama}, apa kabar?\")\n",
        "\n",
        "ucapin = say_hello(nama)"
      ],
      "execution_count": 8,
      "outputs": [
        {
          "output_type": "error",
          "ename": "NameError",
          "evalue": "ignored",
          "traceback": [
            "\u001b[0;31m---------------------------------------------------------------------------\u001b[0m",
            "\u001b[0;31mNameError\u001b[0m                                 Traceback (most recent call last)",
            "\u001b[0;32m<ipython-input-8-71af2e88b3b4>\u001b[0m in \u001b[0;36m<module>\u001b[0;34m()\u001b[0m\n\u001b[1;32m      2\u001b[0m   \u001b[0mprint\u001b[0m\u001b[0;34m(\u001b[0m\u001b[0;34mf\"Hello {nama}, apa kabar?\"\u001b[0m\u001b[0;34m)\u001b[0m\u001b[0;34m\u001b[0m\u001b[0;34m\u001b[0m\u001b[0m\n\u001b[1;32m      3\u001b[0m \u001b[0;34m\u001b[0m\u001b[0m\n\u001b[0;32m----> 4\u001b[0;31m \u001b[0mucapin\u001b[0m \u001b[0;34m=\u001b[0m \u001b[0msay_hello\u001b[0m\u001b[0;34m(\u001b[0m\u001b[0mnama\u001b[0m\u001b[0;34m)\u001b[0m\u001b[0;34m\u001b[0m\u001b[0;34m\u001b[0m\u001b[0m\n\u001b[0m",
            "\u001b[0;31mNameError\u001b[0m: name 'nama' is not defined"
          ]
        }
      ]
    },
    {
      "cell_type": "markdown",
      "metadata": {
        "id": "9MJWEtlXwnJA"
      },
      "source": [
        "Saya mencoba membuat fungsi say_hello() dengan def, kemudian menyimpannya ke dalam variabel ucapin. Tapi malah erro!\n",
        "\n",
        "Ini karena fungsi tersebut bukanlah fungsi anonymous yang boleh diubah-ubah namanya. Lalu perhatikan di baris terakhur, fungsi lambda greeting() yang sudah disimpan lagi ke variabel yang berbeda, yakni sapa."
      ]
    },
    {
      "cell_type": "code",
      "metadata": {
        "id": "C7Nj-usrw8SP"
      },
      "source": [
        "greeting = lambda name: print(f\"Hello, {name}\")"
      ],
      "execution_count": 9,
      "outputs": []
    },
    {
      "cell_type": "code",
      "metadata": {
        "colab": {
          "base_uri": "https://localhost:8080/"
        },
        "id": "TNuoeUVHxEYZ",
        "outputId": "cf6c9123-5145-498f-dfab-f7351be2a65c"
      },
      "source": [
        "greeting = lambda name: print(f\"Hello, {name}\")\n",
        "sapa = greeting\n",
        "greeting(\"Andi\")\n",
        "sapa(\"Neli\")"
      ],
      "execution_count": 12,
      "outputs": [
        {
          "output_type": "stream",
          "name": "stdout",
          "text": [
            "Hello, Andi\n",
            "Hello, Neli\n"
          ]
        }
      ]
    },
    {
      "cell_type": "markdown",
      "metadata": {
        "id": "FrqS2qPdxTKu"
      },
      "source": [
        "Hasilnya tidak error, karena ini adalah fungsu anonymous atau lambda."
      ]
    },
    {
      "cell_type": "markdown",
      "metadata": {
        "id": "istbvnF_xZPa"
      },
      "source": [
        "# Eksekusi Lambda Secara Langsung"
      ]
    },
    {
      "cell_type": "markdown",
      "metadata": {
        "id": "XBfDc0FOxdRf"
      },
      "source": [
        "Eksekusi Lambda secara lansgung kelebihan fungsi lambda dibandingkan def adalah bisa kita eksekusi langsung.\n",
        "\n",
        "Contohnya:"
      ]
    },
    {
      "cell_type": "code",
      "metadata": {
        "colab": {
          "base_uri": "https://localhost:8080/"
        },
        "id": "Yhv2hDZOxl7K",
        "outputId": "05a29312-8b14-444e-e225-3d7ae008f117"
      },
      "source": [
        "(lambda x,y: x**2 + y**2)(4, 6)"
      ],
      "execution_count": 13,
      "outputs": [
        {
          "output_type": "execute_result",
          "data": {
            "text/plain": [
              "52"
            ]
          },
          "metadata": {},
          "execution_count": 13
        }
      ]
    },
    {
      "cell_type": "markdown",
      "metadata": {
        "id": "yhCdik3_xsoo"
      },
      "source": [
        "Tanda kurung yang mengapir fungsi Lambda artinya kita akan langsung mengeksekusi fungsi tersebut.\n",
        "\n",
        "Lalu kurung berikutnya akan berisi parameter.\n",
        "\n",
        "Angka 4 dan 6 adalah parameter x dan y yang akan diberikan kepada fungsi lambda.\n",
        "\n",
        "Maka kita akan langsung mendapatkan hasilnya, yakni: 16 + 36 = 52\n",
        "\n",
        "Hasil dari eksekusi ini bisa juga kita simpan dalam variabel."
      ]
    },
    {
      "cell_type": "code",
      "metadata": {
        "id": "Ds5FelbpyHsQ"
      },
      "source": [
        "hasil = (lambda x, y: x**2 + y**2)(4, 6)"
      ],
      "execution_count": 14,
      "outputs": []
    },
    {
      "cell_type": "markdown",
      "metadata": {
        "id": "qOspjPs-yOSA"
      },
      "source": [
        "# Mengapa Harus Pakai Lambda"
      ]
    },
    {
      "cell_type": "markdown",
      "metadata": {
        "id": "VpHl-FUdyRmc"
      },
      "source": [
        "Kita memang tidak harus selalu menggunakan Lambda, tapi dalam kasus tertentu Lambda lebih baik dibandingkan fungsi biasa. Lambda biasanya dibutuhkan saat kita ingin membuat fungsi dalam satu baris.\n",
        "\n",
        "Biasanya saat menggunakan fungsi-fungsi seperti `filter()`, `map()`, dan `reduce()` kita akan membutuhkan Lambda.\n",
        "\n",
        "Mengapa?\n",
        "\n",
        "Karena di fungsi-fungsi tersevut membutuhkan paraeter fungsi.\n",
        "\n",
        "Contoh:"
      ]
    },
    {
      "cell_type": "code",
      "metadata": {
        "colab": {
          "base_uri": "https://localhost:8080/"
        },
        "id": "Zw7tvj_fyv6J",
        "outputId": "8e80ac55-c54a-4485-f1c3-6a0a7e0c0306"
      },
      "source": [
        "bilangan = [10, 2, 8, 7, 5, 4, 3, 11, 0, 1]\n",
        "filtered_result = map (lambda x: x*x, bilangan)\n",
        "print(list(filtered_result))"
      ],
      "execution_count": 15,
      "outputs": [
        {
          "output_type": "stream",
          "name": "stdout",
          "text": [
            "[100, 4, 64, 49, 25, 16, 9, 121, 0, 1]\n"
          ]
        }
      ]
    },
    {
      "cell_type": "markdown",
      "metadata": {
        "id": "htNVG6bVy9tR"
      },
      "source": [
        "Pada fungsi map() kita memberikan parameter dengan fungsi Lambda.\n",
        "\n",
        "Mengapa bisa begitu?\n",
        "\n",
        "Karena lambda bisa disimpan ke dalam variabel, otomatis dia akan bisa juga jadi parameter .\n",
        "\n",
        "Satu lagi contoh dengan fungsi filter():"
      ]
    },
    {
      "cell_type": "code",
      "metadata": {
        "colab": {
          "base_uri": "https://localhost:8080/"
        },
        "id": "Xr5CTd0MzPJH",
        "outputId": "604f9293-d244-4f6d-d632-1daefddcf9c1"
      },
      "source": [
        "# menentukan bilangan genap\n",
        "genap = lambda x: x%2 == 0\n",
        "list(filter(genap, range(11)))"
      ],
      "execution_count": 16,
      "outputs": [
        {
          "output_type": "execute_result",
          "data": {
            "text/plain": [
              "[0, 2, 4, 6, 8, 10]"
            ]
          },
          "metadata": {},
          "execution_count": 16
        }
      ]
    },
    {
      "cell_type": "markdown",
      "metadata": {
        "id": "RdGb_le4zaK5"
      },
      "source": [
        "# Latihan"
      ]
    },
    {
      "cell_type": "markdown",
      "metadata": {
        "id": "a151WrH5zcVm"
      },
      "source": [
        "1. Buatlah fungsi Lambda untuk menghitung luas dari persegi panjang"
      ]
    },
    {
      "cell_type": "markdown",
      "metadata": {
        "id": "7c1I-NQSzjhB"
      },
      "source": [
        "```\n",
        "*   Input berupa variabel p dan l\n",
        "*   Fungsi Lambda disimpan dalam variabel `luas_persegi_panjang`\n",
        "*   Jika fungsi Lambda dijalankan akan mengasilkan output \"luas persegi panjang anda * (luasnya) *cm\"\n",
        "```\n",
        "\n",
        "\n",
        "\n",
        "\n"
      ]
    },
    {
      "cell_type": "code",
      "metadata": {
        "colab": {
          "base_uri": "https://localhost:8080/"
        },
        "id": "W6kKY8BX079D",
        "outputId": "14a821fa-44be-439d-9eb8-96fa9581ce92"
      },
      "source": [
        "# luas persegi panjang\n",
        "luas_persegi_panjang = lambda p,l : p * l\n",
        "val1 = f(5,10)\n",
        "print(val1)"
      ],
      "execution_count": 17,
      "outputs": [
        {
          "output_type": "stream",
          "name": "stdout",
          "text": [
            "50\n"
          ]
        }
      ]
    },
    {
      "cell_type": "markdown",
      "metadata": {
        "id": "VYUb3g5S0GM6"
      },
      "source": [
        "2. Buatlah fungsi Lambda untuk menghitung luas dari segitiga"
      ]
    },
    {
      "cell_type": "markdown",
      "metadata": {
        "id": "jxXO8Eg60lSb"
      },
      "source": [
        "```\n",
        "* Input berupa variabel a dan t\n",
        "* Fungsi Lambda disimpan dalam variabel `luas_segitiga`\n",
        "* Jika fungsi Lambda dijalankan akan menghasilkan output \"luas segitiga anda * (luasnya) * cm\"\n",
        "```"
      ]
    },
    {
      "cell_type": "code",
      "metadata": {
        "colab": {
          "base_uri": "https://localhost:8080/"
        },
        "id": "924chBjQ2ESD",
        "outputId": "61486fb4-4f77-4954-83b7-bc419b10ac98"
      },
      "source": [
        "# luas segitiga\n",
        "luas_segitiga = lambda a,t : a/2 * t\n",
        "val1 = f(8/2, 9)\n",
        "print(val1)"
      ],
      "execution_count": 23,
      "outputs": [
        {
          "output_type": "stream",
          "name": "stdout",
          "text": [
            "36.0\n"
          ]
        }
      ]
    }
  ]
}